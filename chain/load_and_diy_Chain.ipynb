{
 "cells": [
  {
   "cell_type": "markdown",
   "metadata": {},
   "source": [
    "### 使用文件加载转用chains"
   ]
  },
  {
   "cell_type": "code",
   "execution_count": 2,
   "metadata": {},
   "outputs": [
    {
     "name": "stdout",
     "output_type": "stream",
     "text": [
      "Collecting numexpr\n",
      "  Downloading numexpr-2.10.2-cp310-cp310-win_amd64.whl.metadata (8.3 kB)\n",
      "Requirement already satisfied: numpy>=1.23.0 in d:\\my documents\\desktop\\langchain\\.venv\\lib\\site-packages (from numexpr) (2.2.6)\n",
      "Downloading numexpr-2.10.2-cp310-cp310-win_amd64.whl (144 kB)\n",
      "Installing collected packages: numexpr\n",
      "Successfully installed numexpr-2.10.2\n"
     ]
    }
   ],
   "source": [
    "! pip install numexpr"
   ]
  },
  {
   "cell_type": "code",
   "execution_count": null,
   "metadata": {},
   "outputs": [],
   "source": [
    "from langchain.chains import load_chain\n",
    "\n",
    "chain = load_chain(\"lc//chains/llm-math/chain.json\")\n",
    "\n",
    "print(chain.run(\"1+6等于几？\"))"
   ]
  },
  {
   "cell_type": "markdown",
   "metadata": {},
   "source": [
    "### 自定义链"
   ]
  },
  {
   "cell_type": "code",
   "execution_count": 18,
   "metadata": {},
   "outputs": [],
   "source": [
    "# CustomChain\n",
    "\n",
    "from typing import Any, Dict, List, Optional\n",
    "from langchain.callbacks.manager import CallbackManagerForChainRun\n",
    "from langchain.chains.base import Chain\n",
    "from langchain.prompts import BasePromptTemplate\n",
    "from langchain.base_language import BaseLanguageModel\n",
    "\n",
    "class Wiki_Ariticle_Chain(Chain):\n",
    "    \"\"\"开发一个wiki文章生成器\"\"\"\n",
    "    prompt: BasePromptTemplate\n",
    "    llm: BaseLanguageModel\n",
    "    input_variables: List[str] = [\"topic\"]\n",
    "    output_key: str = \"wiki_article\"\n",
    "\n",
    "    def _call(\n",
    "        self,\n",
    "        inputs: Dict[str, Any],\n",
    "        run_manager: Optional[CallbackManagerForChainRun] = None,\n",
    "    ) -> Dict[str, Any]:\n",
    "        \"\"\"调用LLM生成wiki文章\"\"\"\n",
    "        prompt_value = self.prompt.format_prompt(**inputs)\n",
    "        response = self.llm.generate_prompt([prompt_value],callbacks=run_manager.get_child() if run_manager else None)\n",
    "        if run_manager:\n",
    "            run_manager.on_text(\"wiki文章生成中...\", end=\"\\n\", verbose=True)\n",
    "        return {self.output_key: response.generations[0][0].text}\n",
    "    \n",
    "    @property\n",
    "    def input_keys(self) -> List[str]:\n",
    "        \"\"\"返回输入键\"\"\"\n",
    "        return self.prompt.input_variables\n",
    "    \n",
    "    @property\n",
    "    def output_keys(self) -> List[str]:\n",
    "        \"\"\"返回输出键\"\"\"\n",
    "        return [self.output_key]\n",
    "    \n",
    "    @property\n",
    "    def _chain_type(self) -> str:\n",
    "        \"\"\"返回链类型\"\"\"\n",
    "        return \"wiki_ariticle_chain\""
   ]
  },
  {
   "cell_type": "code",
   "execution_count": 19,
   "metadata": {},
   "outputs": [],
   "source": [
    "from langchain_community.llms import Tongyi\n",
    "from langchain.prompts import PromptTemplate\n",
    "\n",
    "chain=Wiki_Ariticle_Chain(\n",
    "    prompt=PromptTemplate(\n",
    "        input_variables=[\"topic\"],\n",
    "        template=\"请生成一篇关于{topic}的wiki文章\",\n",
    "    ),\n",
    "    llm=Tongyi(model=\"qwen-plus\"),\n",
    ")"
   ]
  },
  {
   "cell_type": "code",
   "execution_count": 20,
   "metadata": {},
   "outputs": [
    {
     "name": "stdout",
     "output_type": "stream",
     "text": [
      "# 黑洞\n",
      "\n",
      "## 概述\n",
      "黑洞是一种极端密集的天体，其质量大到足以使光束也无法逃脱其引力场，因此被称为“黑洞”。它们的存在基于爱因斯坦的广义相对论理论，并在20世纪通过天文观测得到了证实。黑洞是宇宙中最神秘和最具吸引力的天体之一，其研究不仅涉及物理学、天文学，还与量子力学和信息论等学科密切相关。\n",
      "\n",
      "## 历史背景\n",
      "### 提出概念\n",
      "- **18世纪**：约翰·米歇尔（John Michell）和皮埃尔-西蒙·拉普拉斯（Pierre-Simon Laplace）首次提出了“暗星”的概念，即一种质量足够大、密度足够高的天体，其引力强到连光都无法逃离。\n",
      "- **20世纪初**：爱因斯坦于1915年发表的广义相对论为黑洞的存在提供了理论基础。卡尔·施瓦西（Karl Schwarzschild）随后解决了爱因斯坦方程的一个特解，描述了一个静态、无旋转的黑洞。\n",
      "\n",
      "### 观测证据\n",
      "- **20世纪60年代**：科学家开始通过X射线观测发现可能的黑洞候选体，例如天鹅座X-1。\n",
      "- **2019年**：事件视界望远镜（EHT）项目发布了首张黑洞影像，这是位于M87星系中心的超大质量黑洞的照片，标志着人类对黑洞研究的重大突破。\n",
      "\n",
      "## 黑洞的分类\n",
      "根据质量和特性，黑洞通常分为以下几类：\n",
      "\n",
      "1. **恒星级黑洞**：\n",
      "   - 质量范围：几倍至几十倍太阳质量。\n",
      "   - 形成方式：由大质量恒星在生命周期末期发生超新星爆炸后坍缩而成。\n",
      "   \n",
      "2. **中等质量黑洞**：\n",
      "   - 质量范围：几百至数万倍太阳质量。\n",
      "   - 目前对其形成机制尚不完全清楚，可能是恒星级黑洞合并或直接塌缩的结果。\n",
      "\n",
      "3. **超大质量黑洞**：\n",
      "   - 质量范围：百万至数十亿倍太阳质量。\n",
      "   - 存在于大多数大型星系的中心，如银河系中心的射手座A*。\n",
      "\n",
      "4. **原初黑洞**（假设存在）：\n",
      "   - 质量范围：从极小到极大。\n",
      "   - 理论上可能在宇宙早期由于密度波动而形成。\n",
      "\n",
      "## 黑洞的基本性质\n",
      "### 事件视界\n",
      "事件视界是黑洞的一个关键特征，它是黑洞周围的一个边界区域，在此边界内任何物质和辐射（包括光）都无法逃脱黑洞的引力束缚。事件视界的半径称为施瓦西半径，公式为：\n",
      "\\[ R_s = \\frac{2GM}{c^2} \\]\n",
      "其中 \\( G \\) 是引力常数，\\( M \\) 是黑洞的质量，\\( c \\) 是光速。\n",
      "\n",
      "### 奇点\n",
      "奇点位于黑洞中心，是一个密度无限大、时空曲率无限高的点。根据广义相对论，所有进入黑洞的物质最终都会被压缩到奇点。\n",
      "\n",
      "### 霍金辐射\n",
      "英国物理学家斯蒂芬·霍金（Stephen Hawking）提出，黑洞并非完全“黑”，而是会通过量子效应缓慢地释放粒子和辐射，这一过程被称为霍金辐射。随着时间推移，这种辐射会导致黑洞逐渐蒸发并最终消失。\n",
      "\n",
      "## 黑洞的形成与演化\n",
      "### 恒星级黑洞的形成\n",
      "当一个大质量恒星耗尽其核燃料时，核心无法再支撑自身重力，会发生坍缩。如果剩余的核心质量超过托尔曼-奥本海默-沃尔科夫极限（约2-3倍太阳质量），它将坍缩成一个黑洞。\n",
      "\n",
      "### 超大质量黑洞的起源\n",
      "关于超大质量黑洞的形成，目前有多种假说，包括直接坍缩模型、种子黑洞增长模型以及多次合并模型。这些黑洞可能通过吸积周围物质和与其他黑洞合并而不断增长。\n",
      "\n",
      "## 黑洞的研究意义\n",
      "### 对物理学的影响\n",
      "黑洞是检验广义相对论的重要场所，同时也在推动量子引力理论的发展。通过研究黑洞的信息悖论和霍金辐射等问题，科学家希望找到统一广义相对论与量子力学的方法。\n",
      "\n",
      "### 宇宙学意义\n",
      "超大质量黑洞与宿主星系之间的关系表明，它们可能在星系形成和演化过程中扮演了重要角色。此外，黑洞的分布和特性也为理解宇宙的大尺度结构提供了线索。\n",
      "\n",
      "## 结语\n",
      "黑洞作为宇宙中最奇特的天体之一，不仅挑战着我们对物理学的理解，也激发了无数科学家和公众的好奇心。随着技术的进步，未来我们将能够更深入地探索这些神秘的天体，揭开更多关于宇宙的秘密。\n"
     ]
    }
   ],
   "source": [
    "result = chain.run({\"topic\": \"黑洞\"})\n",
    "print(result)"
   ]
  }
 ],
 "metadata": {
  "kernelspec": {
   "display_name": ".venv",
   "language": "python",
   "name": "python3"
  },
  "language_info": {
   "codemirror_mode": {
    "name": "ipython",
    "version": 3
   },
   "file_extension": ".py",
   "mimetype": "text/x-python",
   "name": "python",
   "nbconvert_exporter": "python",
   "pygments_lexer": "ipython3",
   "version": "3.10.10"
  }
 },
 "nbformat": 4,
 "nbformat_minor": 2
}
