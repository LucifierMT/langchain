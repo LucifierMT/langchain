{
 "cells": [
  {
   "cell_type": "markdown",
   "metadata": {},
   "source": [
    "### Chains 四种通用链的使用"
   ]
  },
  {
   "cell_type": "markdown",
   "metadata": {},
   "source": [
    "- LLMChain 最常用的链"
   ]
  },
  {
   "cell_type": "code",
   "execution_count": 4,
   "metadata": {},
   "outputs": [
    {
     "name": "stdout",
     "output_type": "stream",
     "text": [
      "\n",
      "\n",
      "\u001b[1m> Entering new LLMChain chain...\u001b[0m\n",
      "Prompt after formatting:\n",
      "\u001b[32;1m\u001b[1;3m帮我给维度跃迁想三个可以注册的域名\u001b[0m\n",
      "\n",
      "\u001b[1m> Finished chain.\u001b[0m\n"
     ]
    },
    {
     "data": {
      "text/plain": [
       "{'product': '维度跃迁',\n",
       " 'text': '以下是为“维度跃迁” brainstorm 的三个可注册域名建议，涵盖了不同的风格和后缀：\\n\\n### 1. **维度主题直译型**\\n- **Weiduyueqian.com**  \\n  简单直接地将“维度跃迁”拼音化，适合国际化或需要强调品牌名称本身的情况。如果觉得太长，可以缩写为：\\n  - **Wdyq.com**（首字母组合）\\n\\n- **DimensionLeap.com**  \\n  英文直译“维度跃迁”，简洁明了，易于海外用户理解，同时保留专业感。\\n\\n---\\n\\n### 2. **创意结合型**\\n- **TransDimensional.com**  \\n  “Trans”表示跨越、转换，“Dimensional”与维度相关，整体表达“跨维度”的概念，同时听起来科技感十足。\\n\\n- **MetaShift.io**  \\n  结合“元宇宙”热点（Meta）和“转变”（Shift），隐喻维度之间的跃迁，同时“.io”常用于科技公司，显得现代且前沿。\\n\\n- **QuantumLeap.pro**  \\n  “Quantum Leap”本身就有量子跃迁的科学含义，暗合“维度跃迁”的抽象意义，而“.pro”后缀传递专业性。\\n\\n---\\n\\n### 3. **简洁记忆型**\\n- **LeapD.com**  \\n  将“Leap”（跃迁）和“Dimension”（维度）融合，取其核心元素，简单易记。\\n\\n- **CrossDimen.com**  \\n  “Cross”代表跨越，“Dimen”是“Dimension”的缩写，既保留了原意又缩短长度。\\n\\n- **ParaRealm.net**  \\n  “Para”暗示平行世界或超自然，“Realm”指领域或空间，整体寓意不同维度之间的切换，同时“.net”适合技术或网络相关项目。\\n\\n希望这些域名能符合你的需求！如果有具体行业方向或其他偏好，请告诉我，我可以进一步优化建议。'}"
      ]
     },
     "execution_count": 4,
     "metadata": {},
     "output_type": "execute_result"
    }
   ],
   "source": [
    "from langchain.chains import LLMChain\n",
    "from langchain.prompts import PromptTemplate\n",
    "from langchain_community.llms import Tongyi\n",
    "\n",
    "llm = Tongyi(\n",
    "    temperature=0,\n",
    "    model_name=\"qwen-plus\"\n",
    ")\n",
    "\n",
    "\n",
    "prompt_template = \"帮我给{product}想三个可以注册的域名\"\n",
    "\n",
    "llm_chain = LLMChain(\n",
    "    llm = llm,\n",
    "    prompt = PromptTemplate.from_template(prompt_template),\n",
    "    verbose=True\n",
    ")\n",
    "\n",
    "llm_chain({\"product\":\"维度跃迁\"})"
   ]
  },
  {
   "cell_type": "markdown",
   "metadata": {},
   "source": [
    "- SimpleSequentialChain & SequentialChain 顺序调用"
   ]
  },
  {
   "cell_type": "code",
   "execution_count": 12,
   "metadata": {},
   "outputs": [
    {
     "name": "stdout",
     "output_type": "stream",
     "text": [
      "\n",
      "\n",
      "\u001b[1m> Entering new SimpleSequentialChain chain...\u001b[0m\n",
      "\n",
      "\n",
      "\u001b[1m> Entering new LLMChain chain...\u001b[0m\n",
      "Prompt after formatting:\n",
      "\u001b[32;1m\u001b[1;3mHuman: 帮我给软件开发的公司起一个抽象的名字\u001b[0m\n",
      "\n",
      "\u001b[1m> Finished chain.\u001b[0m\n",
      "\u001b[36;1m\u001b[1;3m以下是一些抽象风格的软件开发公司名称建议，涵盖不同灵感来源和风格特点。希望其中能有符合你期待的名字：\n",
      "\n",
      "### 科技与未来感\n",
      "- **星链智码**：将“星辰”与“链接”“代码”结合，寓意公司在技术领域构建广泛连接、引领未来发展。\n",
      "- **虚境匠造**：突出在虚拟世界（如元宇宙相关领域）中精心打造产品和服务的能力。\n",
      "- **量子枢点**：借助量子概念展现前沿科技属性，“枢点”体现核心地位。\n",
      "\n",
      "### 艺术与哲学气息\n",
      "- **墨韵数织**：融合中国传统文化中的“墨”与现代数字编织理念，传达艺术性和技术深度。\n",
      "- **流形创域**：数学术语“流形”象征复杂而连续的变化，“创域”表示创造新天地，整体富有哲理意味。\n",
      "- **隐象编译**：暗示从无形到有形的过程，体现软件开发将抽象逻辑转化为实际应用的特点。\n",
      "\n",
      "### 自然与力量结合\n",
      "- **深林算核**：以森林深处象征探索未知领域的勇气，“算核”则代表计算能力的核心部分。\n",
      "- **潮涌码界**：把技术发展比喻成汹涌澎湃的浪潮，“码界”指代代码构成的世界。\n",
      "- **峰峦智构**：高山峻岭寓意雄伟壮阔，“智构”强调智慧构建，适合展现企业强大实力。\n",
      "\n",
      "### 神秘与探索主题\n",
      "- **暗影启源**：充满神秘色彩，暗示挖掘隐藏价值并开启新的可能性。\n",
      "- **秘钥织梦**：寓意通过掌握关键知识（秘钥），编织出美好的梦想（实现客户需求）。\n",
      "- **幽径探码**：描绘一条鲜有人知但充满机遇的道路，在此过程中不断发现代码奥秘。 \n",
      "\n",
      "如果需要更具体方向或者调整某些元素，请告诉我！\u001b[0m\n",
      "\n",
      "\n",
      "\u001b[1m> Entering new LLMChain chain...\u001b[0m\n",
      "Prompt after formatting:\n",
      "\u001b[32;1m\u001b[1;3mHuman: 用三个词描述一下以下是一些抽象风格的软件开发公司名称建议，涵盖不同灵感来源和风格特点。希望其中能有符合你期待的名字：\n",
      "\n",
      "### 科技与未来感\n",
      "- **星链智码**：将“星辰”与“链接”“代码”结合，寓意公司在技术领域构建广泛连接、引领未来发展。\n",
      "- **虚境匠造**：突出在虚拟世界（如元宇宙相关领域）中精心打造产品和服务的能力。\n",
      "- **量子枢点**：借助量子概念展现前沿科技属性，“枢点”体现核心地位。\n",
      "\n",
      "### 艺术与哲学气息\n",
      "- **墨韵数织**：融合中国传统文化中的“墨”与现代数字编织理念，传达艺术性和技术深度。\n",
      "- **流形创域**：数学术语“流形”象征复杂而连续的变化，“创域”表示创造新天地，整体富有哲理意味。\n",
      "- **隐象编译**：暗示从无形到有形的过程，体现软件开发将抽象逻辑转化为实际应用的特点。\n",
      "\n",
      "### 自然与力量结合\n",
      "- **深林算核**：以森林深处象征探索未知领域的勇气，“算核”则代表计算能力的核心部分。\n",
      "- **潮涌码界**：把技术发展比喻成汹涌澎湃的浪潮，“码界”指代代码构成的世界。\n",
      "- **峰峦智构**：高山峻岭寓意雄伟壮阔，“智构”强调智慧构建，适合展现企业强大实力。\n",
      "\n",
      "### 神秘与探索主题\n",
      "- **暗影启源**：充满神秘色彩，暗示挖掘隐藏价值并开启新的可能性。\n",
      "- **秘钥织梦**：寓意通过掌握关键知识（秘钥），编织出美好的梦想（实现客户需求）。\n",
      "- **幽径探码**：描绘一条鲜有人知但充满机遇的道路，在此过程中不断发现代码奥秘。 \n",
      "\n",
      "如果需要更具体方向或者调整某些元素，请告诉我！的特点\u001b[0m\n",
      "\n",
      "\u001b[1m> Finished chain.\u001b[0m\n",
      "\u001b[33;1m\u001b[1;3m未来感、艺术性、探索精神。\u001b[0m\n",
      "\n",
      "\u001b[1m> Finished chain.\u001b[0m\n"
     ]
    },
    {
     "data": {
      "text/plain": [
       "'未来感、艺术性、探索精神。'"
      ]
     },
     "execution_count": 12,
     "metadata": {},
     "output_type": "execute_result"
    }
   ],
   "source": [
    "# SimpleSequentialChain 只支持固定的链路\n",
    "\n",
    "from langchain.chains import LLMChain\n",
    "from langchain_community.llms import Tongyi\n",
    "from langchain.prompts import ChatPromptTemplate\n",
    "from langchain.chains import SimpleSequentialChain\n",
    "\n",
    "llm = Tongyi(\n",
    "    temperature=0,\n",
    "    model_name=\"qwen-plus\"\n",
    ")\n",
    "\n",
    "# chain1\n",
    "first_prompt = ChatPromptTemplate.from_template(\"帮我给{input}的公司起一个抽象的名字\")\n",
    "llm_chain1 = LLMChain(\n",
    "    llm=llm,\n",
    "    prompt=first_prompt,\n",
    "    verbose=True\n",
    ")\n",
    "\n",
    "# chain2\n",
    "second_prompt = ChatPromptTemplate.from_template(\"用三个词描述一下{company_name}的特点\")\n",
    "llm_chain2 = LLMChain(\n",
    "    llm=llm,\n",
    "    prompt=second_prompt,\n",
    "    verbose=True\n",
    ")\n",
    "\n",
    "# SimpleSequentialChain\n",
    "simple_chain = SimpleSequentialChain(\n",
    "    chains=[llm_chain1, llm_chain2],\n",
    "    verbose=True\n",
    ")\n",
    "\n",
    "simple_chain.run({\"input\": \"软件开发\"})\n"
   ]
  },
  {
   "cell_type": "code",
   "execution_count": 15,
   "metadata": {},
   "outputs": [],
   "source": [
    "# SequentialChain 支持多条链路的顺序执行\n",
    "\n",
    "from langchain.chains import LLMChain, SequentialChain\n",
    "from langchain_community.llms import Tongyi\n",
    "from langchain.prompts import ChatPromptTemplate\n",
    "\n",
    "llm = Tongyi(\n",
    "    temperature=0,\n",
    "    model_name=\"qwen-plus\"\n",
    ")\n",
    "\n",
    "# chain1 翻译\n",
    "first_prompt = ChatPromptTemplate.from_template(\"把下面内容翻译成中文：{input}\")\n",
    "llm_chain1 = LLMChain(\n",
    "    llm=llm,\n",
    "    prompt=first_prompt,\n",
    "    output_key=\"Chinese_Translation\",\n",
    "    verbose=True\n",
    ")\n",
    "\n",
    "# chain2 摘要总结\n",
    "second_prompt = ChatPromptTemplate.from_template(\"对下列内容进行摘要总结：{Chinese_Translation}\")\n",
    "llm_chain2 = LLMChain(\n",
    "    llm=llm,\n",
    "    prompt=second_prompt,\n",
    "    output_key=\"Chinese_Summary\",\n",
    "    verbose=True\n",
    ")\n",
    "\n",
    "# chain3 智能识别语言\n",
    "third_prompt = ChatPromptTemplate.from_template(\"下面的内容使用了什么语言：{Chinese_Summary}\")\n",
    "llm_chain3 = LLMChain(\n",
    "    llm=llm,\n",
    "    prompt=third_prompt,\n",
    "    output_key=\"Language\",\n",
    "    verbose=True\n",
    ")\n",
    "\n",
    "# chain4 针对摘要使用指定语言进行评论\n",
    "fourth_prompt = ChatPromptTemplate.from_template(\"用{Language}对下面的内容进行评论：{Chinese_Summary}\")\n",
    "llm_chain4 = LLMChain(\n",
    "    llm=llm,\n",
    "    prompt=fourth_prompt,\n",
    "    verbose=True,\n",
    "    output_key=\"Comment\"\n",
    ")\n",
    "\n",
    "# SequentialChain 翻译成中文->对翻译后的中文进行总结摘要->智能识别语言->针对摘要使用指定语言进行评论\n",
    "sequential_chain = SequentialChain(\n",
    "    chains=[llm_chain1, llm_chain2, llm_chain3, llm_chain4],\n",
    "    input_variables=[\"input\"],\n",
    "    output_variables=[\"Chinese_Translation\", \"Chinese_Summary\", \"Language\", \"Comment\"],\n",
    "    verbose=True\n",
    ")"
   ]
  },
  {
   "cell_type": "code",
   "execution_count": 16,
   "metadata": {},
   "outputs": [],
   "source": [
    "content = \"\"\"\n",
    "In a quiet village, there lived a teapot with a secret. Every morning, it would whisper riddles to the sunrise. One day, a curious cat named Miso stumbled upon the teapot and demanded answers. The teapot, feeling mischievous, declared, “I’ll grant you wisdom… but only if you solve my puzzle!”\n",
    "\n",
    "Miso pawed at the teapot, which suddenly spilled a cloud of glittering steam. The steam morphed into a map leading to a hidden cookie stash. As Miso followed the trail, the teapot chuckled, “Wisdom is just curiosity with a nap.”\n",
    "\n",
    "From then on, the teapot’s riddles became the village’s favorite game—though no one ever found the cookies. (They were in the teapot all along.)\n",
    "\"\"\""
   ]
  },
  {
   "cell_type": "code",
   "execution_count": 18,
   "metadata": {},
   "outputs": [
    {
     "name": "stderr",
     "output_type": "stream",
     "text": [
      "C:\\Users\\Administrator\\AppData\\Local\\Temp\\ipykernel_16640\\1381200712.py:1: LangChainDeprecationWarning: The method `Chain.__call__` was deprecated in langchain 0.1.0 and will be removed in 1.0. Use :meth:`~invoke` instead.\n",
      "  sequential_chain(content)\n"
     ]
    },
    {
     "name": "stdout",
     "output_type": "stream",
     "text": [
      "\n",
      "\n",
      "\u001b[1m> Entering new SequentialChain chain...\u001b[0m\n",
      "\n",
      "\n",
      "\u001b[1m> Entering new LLMChain chain...\u001b[0m\n",
      "Prompt after formatting:\n",
      "\u001b[32;1m\u001b[1;3mHuman: 把下面内容翻译成中文：\n",
      "In a quiet village, there lived a teapot with a secret. Every morning, it would whisper riddles to the sunrise. One day, a curious cat named Miso stumbled upon the teapot and demanded answers. The teapot, feeling mischievous, declared, “I’ll grant you wisdom… but only if you solve my puzzle!”\n",
      "\n",
      "Miso pawed at the teapot, which suddenly spilled a cloud of glittering steam. The steam morphed into a map leading to a hidden cookie stash. As Miso followed the trail, the teapot chuckled, “Wisdom is just curiosity with a nap.”\n",
      "\n",
      "From then on, the teapot’s riddles became the village’s favorite game—though no one ever found the cookies. (They were in the teapot all along.)\n",
      "\u001b[0m\n",
      "\n",
      "\u001b[1m> Finished chain.\u001b[0m\n",
      "\n",
      "\n",
      "\u001b[1m> Entering new LLMChain chain...\u001b[0m\n",
      "Prompt after formatting:\n",
      "\u001b[32;1m\u001b[1;3mHuman: 对下列内容进行摘要总结：在一个宁静的村庄里，住着一把有着秘密的茶壶。每天清晨，它都会对着日出低语谜题。有一天，一只名叫味噌的好奇猫偶然发现了这把茶壶，并要求得到答案。茶壶感到淘气，于是宣布：“如果你能解开我的谜题，我就赐予你智慧！”\n",
      "\n",
      "味噌用爪子拨弄茶壶，突然间，一团闪亮的蒸汽从茶壶中喷出。蒸汽变成了一张通往隐藏饼干储藏处的地图。当味噌沿着路线追寻时，茶壶轻笑说：“智慧不过是带着小憩的好奇心。”\n",
      "\n",
      "从那以后，茶壶的谜题成为了全村人最喜欢的游戏——尽管没有人真正找到那些饼干。（其实饼干一直在茶壶里呢。）\u001b[0m\n",
      "\n",
      "\u001b[1m> Finished chain.\u001b[0m\n",
      "\n",
      "\n",
      "\u001b[1m> Entering new LLMChain chain...\u001b[0m\n",
      "Prompt after formatting:\n",
      "\u001b[32;1m\u001b[1;3mHuman: 下面的内容使用了什么语言：在一个宁静的村庄里，有一把会对着日出低语谜题的神秘茶壶。一天，一只名叫味噌的猫发现了茶壶并试图解开它的谜题。茶壶调皮地给出提示，蒸汽化为一张地图，引导味噌寻找隐藏的饼干。然而，茶壶告诉味噌，智慧源于带着好奇心的小憩与探索。从此，全村人都爱上了茶壶的谜题游戏，但没人真正找到饼干——其实饼干一直藏在茶壶里。这个故事展现了好奇与智慧的乐趣，以及谜题带来的简单快乐。\u001b[0m\n",
      "\n",
      "\u001b[1m> Finished chain.\u001b[0m\n",
      "\n",
      "\n",
      "\u001b[1m> Entering new LLMChain chain...\u001b[0m\n",
      "Prompt after formatting:\n",
      "\u001b[32;1m\u001b[1;3mHuman: 用这个故事使用的是**中文**语言。内容通过富有想象力的叙述，描绘了一个关于好奇心、智慧和快乐的温馨故事。它结合了拟人化的元素（会低语谜题的茶壶、寻找饼干的猫）以及哲学意味的主题（智慧与探索的关系）。这种表达方式常见于中文的寓言或童话风格的文字中。对下面的内容进行评论：在一个宁静的村庄里，有一把会对着日出低语谜题的神秘茶壶。一天，一只名叫味噌的猫发现了茶壶并试图解开它的谜题。茶壶调皮地给出提示，蒸汽化为一张地图，引导味噌寻找隐藏的饼干。然而，茶壶告诉味噌，智慧源于带着好奇心的小憩与探索。从此，全村人都爱上了茶壶的谜题游戏，但没人真正找到饼干——其实饼干一直藏在茶壶里。这个故事展现了好奇与智慧的乐趣，以及谜题带来的简单快乐。\u001b[0m\n",
      "\n",
      "\u001b[1m> Finished chain.\u001b[0m\n",
      "\n",
      "\u001b[1m> Finished chain.\u001b[0m\n"
     ]
    },
    {
     "data": {
      "text/plain": [
       "{'input': '\\nIn a quiet village, there lived a teapot with a secret. Every morning, it would whisper riddles to the sunrise. One day, a curious cat named Miso stumbled upon the teapot and demanded answers. The teapot, feeling mischievous, declared, “I’ll grant you wisdom… but only if you solve my puzzle!”\\n\\nMiso pawed at the teapot, which suddenly spilled a cloud of glittering steam. The steam morphed into a map leading to a hidden cookie stash. As Miso followed the trail, the teapot chuckled, “Wisdom is just curiosity with a nap.”\\n\\nFrom then on, the teapot’s riddles became the village’s favorite game—though no one ever found the cookies. (They were in the teapot all along.)\\n',\n",
       " 'Chinese_Translation': '在一个宁静的村庄里，住着一把有着秘密的茶壶。每天清晨，它都会对着日出低语谜题。有一天，一只名叫味噌的好奇猫偶然发现了这把茶壶，并要求得到答案。茶壶感到淘气，于是宣布：“如果你能解开我的谜题，我就赐予你智慧！”\\n\\n味噌用爪子拨弄茶壶，突然间，一团闪亮的蒸汽从茶壶中喷出。蒸汽变成了一张通往隐藏饼干储藏处的地图。当味噌沿着路线追寻时，茶壶轻笑说：“智慧不过是带着小憩的好奇心。”\\n\\n从那以后，茶壶的谜题成为了全村人最喜欢的游戏——尽管没有人真正找到那些饼干。（其实饼干一直在茶壶里呢。）',\n",
       " 'Chinese_Summary': '在一个宁静的村庄里，有一把会对着日出低语谜题的神秘茶壶。一天，一只名叫味噌的猫发现了茶壶并试图解开它的谜题。茶壶调皮地给出提示，蒸汽化为一张地图，引导味噌寻找隐藏的饼干。然而，茶壶告诉味噌，智慧源于带着好奇心的小憩与探索。从此，全村人都爱上了茶壶的谜题游戏，但没人真正找到饼干——其实饼干一直藏在茶壶里。这个故事展现了好奇与智慧的乐趣，以及谜题带来的简单快乐。',\n",
       " 'Language': '这个故事使用的是**中文**语言。内容通过富有想象力的叙述，描绘了一个关于好奇心、智慧和快乐的温馨故事。它结合了拟人化的元素（会低语谜题的茶壶、寻找饼干的猫）以及哲学意味的主题（智慧与探索的关系）。这种表达方式常见于中文的寓言或童话风格的文字中。',\n",
       " 'Comment': '这个故事以一种温馨而富有哲理的方式，展现了好奇心、智慧与快乐之间的关系。以下是对故事的几点评论：\\n\\n1. **拟人化与想象力的结合**  \\n   故事中的茶壶和猫被赋予了人性化的特征：茶壶会低语谜题，蒸汽能化为地图；味噌猫则带着探索的热情去追寻答案。这种拟人化的手法不仅增添了趣味性，还让读者更容易代入情感，感受到角色的内心世界。通过这些生动的形象，故事成功地将抽象的主题（如智慧与探索）具象化。\\n\\n2. **哲学意味的主题**  \\n   茶壶提到“智慧源于带着好奇心的小憩与探索”，这句话蕴含了深刻的哲学思考。它暗示了智慧并非单纯来自结果或答案，而是源于过程本身——即对未知的好奇心以及主动探索的精神。这种观点鼓励人们享受旅途而非仅仅追求目的地，体现了东方文化中常见的“道”的思想，强调体验和感悟的重要性。\\n\\n3. **谜题与快乐的象征意义**  \\n   饼干作为目标象征了一种具体的满足感，但最终揭示饼干一直藏在茶壶里，这一反转巧妙地点明了主题：真正的快乐并不一定来自于外部的目标达成，而是来源于参与其中的乐趣。全村人爱上解谜的过程，说明集体分享好奇与智慧的旅程本身就是一种幸福。\\n\\n4. **语言风格与文化背景**  \\n   这个故事采用了典型的中文寓言或童话风格，用简洁优美的文字传递深刻道理。宁静的村庄、神秘的茶壶等元素都带有浓厚的传统气息，同时又融入了现代的创意表达（如蒸汽地图）。这样的叙述方式既贴近中国传统文化，又具有普世吸引力，能够跨越年龄层打动人心。\\n\\n5. **教育意义与启发性**  \\n   对于儿童来说，这是一个充满奇幻色彩的故事，可以激发他们的好奇心和想象力；而对于成人而言，则是一则寓意深远的寓言，提醒我们在忙碌的生活中不要忘记停下来欣赏沿途风景，并珍惜那些看似无解却充满乐趣的“谜题”。\\n\\n综上所述，这个故事以其独特的叙事方式、丰富的象征意义和温暖的人文关怀，成为了一个既能娱乐又能启迪的作品。它告诉我们，无论是面对生活中的难题还是日常琐事，保持一颗好奇的心，用智慧去探索，都能发现隐藏其中的简单快乐。'}"
      ]
     },
     "execution_count": 18,
     "metadata": {},
     "output_type": "execute_result"
    }
   ],
   "source": [
    "sequential_chain(content)"
   ]
  }
 ],
 "metadata": {
  "kernelspec": {
   "display_name": ".venv",
   "language": "python",
   "name": "python3"
  },
  "language_info": {
   "codemirror_mode": {
    "name": "ipython",
    "version": 3
   },
   "file_extension": ".py",
   "mimetype": "text/x-python",
   "name": "python",
   "nbconvert_exporter": "python",
   "pygments_lexer": "ipython3",
   "version": "3.10.10"
  }
 },
 "nbformat": 4,
 "nbformat_minor": 2
}
