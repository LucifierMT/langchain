{
 "cells": [
  {
   "cell_type": "markdown",
   "metadata": {},
   "source": [
    "### Lost in the Middle:长上下文精度问题"
   ]
  },
  {
   "cell_type": "code",
   "execution_count": null,
   "metadata": {},
   "outputs": [],
   "source": [
    "! pip install sentence-transformers"
   ]
  },
  {
   "cell_type": "code",
   "execution_count": 1,
   "metadata": {},
   "outputs": [
    {
     "name": "stderr",
     "output_type": "stream",
     "text": [
      "C:\\Users\\Administrator\\AppData\\Local\\Temp\\ipykernel_24864\\3325544754.py:11: LangChainDeprecationWarning: The class `HuggingFaceBgeEmbeddings` was deprecated in LangChain 0.2.2 and will be removed in 1.0. An updated version of the class exists in the :class:`~langchain-huggingface package and should be used instead. To use it run `pip install -U :class:`~langchain-huggingface` and import as `from :class:`~langchain_huggingface import HuggingFaceEmbeddings``.\n",
      "  embeddings = HuggingFaceBgeEmbeddings(model_name = \"all-MiniLM-L6-v2\")  # 使用HuggingFace托管的开源LLM做嵌入\n",
      "C:\\Users\\Administrator\\AppData\\Local\\Temp\\ipykernel_24864\\3325544754.py:33: LangChainDeprecationWarning: The method `BaseRetriever.get_relevant_documents` was deprecated in langchain-core 0.1.46 and will be removed in 1.0. Use :meth:`~invoke` instead.\n",
      "  docs = retrieval.get_relevant_documents(query)\n"
     ]
    },
    {
     "data": {
      "text/plain": [
       "[Document(metadata={}, page_content='凯尔特人队是我最喜欢的球队。'),\n",
       " Document(metadata={}, page_content='L.科内特是凯尔特人队最好的球员之一。'),\n",
       " Document(metadata={}, page_content='波士顿凯尔特人队以20分的优势赢得了比赛。'),\n",
       " Document(metadata={}, page_content='这是一篇关于波士顿凯尔特人的文件。'),\n",
       " Document(metadata={}, page_content='《艾尔登法环》是过去15年最好的游戏之一。'),\n",
       " Document(metadata={}, page_content='拉里·伯德是一位标志性的NBA球员。'),\n",
       " Document(metadata={}, page_content='我非常喜欢去看电影。'),\n",
       " Document(metadata={}, page_content='篮球是一项伟大的运动。'),\n",
       " Document(metadata={}, page_content='这只是一段随机的文字。'),\n",
       " Document(metadata={}, page_content='带我飞往月球是我最喜欢的歌曲之一。')]"
      ]
     },
     "execution_count": 1,
     "metadata": {},
     "output_type": "execute_result"
    }
   ],
   "source": [
    "from langchain.chains import LLMChain, StuffDocumentsChain\n",
    "from langchain.document_transformers import LongContextReorder\n",
    "from langchain.embeddings import HuggingFaceBgeEmbeddings\n",
    "from langchain.vectorstores import Chroma\n",
    "\n",
    "# 解决HuggingFace连接不上的问题\n",
    "import os\n",
    "os.environ['CURL_CA_BUNDLE'] = ''\n",
    "os.environ['HF_ENDPOINT'] = 'https://hf-mirror.com'\n",
    "\n",
    "embeddings = HuggingFaceBgeEmbeddings(model_name = \"all-MiniLM-L6-v2\")  # 使用HuggingFace托管的开源LLM做嵌入\n",
    "\n",
    "text = [\n",
    "    \"篮球是一项伟大的运动。\",\n",
    "    \"带我飞往月球是我最喜欢的歌曲之一。\",\n",
    "    \"凯尔特人队是我最喜欢的球队。\",\n",
    "    \"这是一篇关于波士顿凯尔特人的文件。\",\n",
    "    \"我非常喜欢去看电影。\",\n",
    "    \"波士顿凯尔特人队以20分的优势赢得了比赛。\",\n",
    "    \"这只是一段随机的文字。\",\n",
    "    \"《艾尔登法环》是过去15年最好的游戏之一。\",\n",
    "    \"L.科内特是凯尔特人队最好的球员之一。\",\n",
    "    \"拉里·伯德是一位标志性的NBA球员。\"\n",
    "]\n",
    "\n",
    "retrieval = Chroma.from_texts(texts=text, embedding=embeddings).as_retriever(\n",
    "    search_kwargs={\"k\": 10}\n",
    ")\n",
    "\n",
    "query = \"关于凯尔特人队你知道什么\"\n",
    "\n",
    "# 根据相关性检索文档\n",
    "docs = retrieval.get_relevant_documents(query)\n",
    "\n",
    "docs\n"
   ]
  },
  {
   "cell_type": "code",
   "execution_count": 2,
   "metadata": {},
   "outputs": [
    {
     "data": {
      "text/plain": [
       "[Document(metadata={}, page_content='L.科内特是凯尔特人队最好的球员之一。'),\n",
       " Document(metadata={}, page_content='这是一篇关于波士顿凯尔特人的文件。'),\n",
       " Document(metadata={}, page_content='拉里·伯德是一位标志性的NBA球员。'),\n",
       " Document(metadata={}, page_content='篮球是一项伟大的运动。'),\n",
       " Document(metadata={}, page_content='带我飞往月球是我最喜欢的歌曲之一。'),\n",
       " Document(metadata={}, page_content='这只是一段随机的文字。'),\n",
       " Document(metadata={}, page_content='我非常喜欢去看电影。'),\n",
       " Document(metadata={}, page_content='《艾尔登法环》是过去15年最好的游戏之一。'),\n",
       " Document(metadata={}, page_content='波士顿凯尔特人队以20分的优势赢得了比赛。'),\n",
       " Document(metadata={}, page_content='凯尔特人队是我最喜欢的球队。')]"
      ]
     },
     "execution_count": 2,
     "metadata": {},
     "output_type": "execute_result"
    }
   ],
   "source": [
    "# 对检索结果进行排序，根据论文的方案\n",
    "# 问题相关性越低的内容块放在中间\n",
    "# 问题相关性越高的内容块放在两端\n",
    "\n",
    "reordering = LongContextReorder()\n",
    "\n",
    "reorder_docs = reordering.transform_documents(docs)\n",
    "\n",
    "# 头尾共有4个高相关性文档\n",
    "reorder_docs"
   ]
  },
  {
   "cell_type": "code",
   "execution_count": 3,
   "metadata": {},
   "outputs": [
    {
     "name": "stderr",
     "output_type": "stream",
     "text": [
      "C:\\Users\\Administrator\\AppData\\Local\\Temp\\ipykernel_24864\\3114908255.py:33: LangChainDeprecationWarning: The class `LLMChain` was deprecated in LangChain 0.1.17 and will be removed in 1.0. Use :meth:`~RunnableSequence, e.g., `prompt | llm`` instead.\n",
      "  llm_chain = LLMChain(\n",
      "C:\\Users\\Administrator\\AppData\\Local\\Temp\\ipykernel_24864\\3114908255.py:38: LangChainDeprecationWarning: This class is deprecated. Use the `create_stuff_documents_chain` constructor instead. See migration guide here: https://python.langchain.com/docs/versions/migrating_chains/stuff_docs_chain/\n",
      "  workchain = StuffDocumentsChain(\n",
      "C:\\Users\\Administrator\\AppData\\Local\\Temp\\ipykernel_24864\\3114908255.py:45: LangChainDeprecationWarning: The method `Chain.run` was deprecated in langchain 0.1.0 and will be removed in 1.0. Use :meth:`~invoke` instead.\n",
      "  workchain.run(\n"
     ]
    },
    {
     "data": {
      "text/plain": [
       "'波士顿凯尔特人是来自美国马萨诸塞州波士顿的球队。'"
      ]
     },
     "execution_count": 3,
     "metadata": {},
     "output_type": "execute_result"
    }
   ],
   "source": [
    "from langchain_community.llms import Tongyi\n",
    "from langchain.prompts import PromptTemplate\n",
    "import os\n",
    "\n",
    "DASHSCOPE_API_KEY = os.getenv(\"DASHSCOPE_API_KEY\")\n",
    "\n",
    "llm = Tongyi(\n",
    "    model=\"qwen-plus\",\n",
    "    api_key=DASHSCOPE_API_KEY,\n",
    "    temperature=0,\n",
    "    max_tokens=256,\n",
    ")\n",
    "\n",
    "document_prompt = PromptTemplate(\n",
    "    input_variables=[\"page_content\"],\n",
    "    template=\"{page_content}\",\n",
    ")\n",
    "\n",
    "stuff_prompt_override = \"\"\"\n",
    "    Given this text extracts:\n",
    "    ----------------------------------\n",
    "    {context}\n",
    "    ----------------------------------\n",
    "    Please answer the question below. If you don't know the answer, just say \"I don't know\".\n",
    "    {query}\n",
    "\"\"\"\n",
    "\n",
    "promt = PromptTemplate(\n",
    "    template=stuff_prompt_override,\n",
    "    input_variables=[\"context\", \"query\"],\n",
    ")\n",
    "\n",
    "llm_chain = LLMChain(\n",
    "    llm=llm,\n",
    "    prompt=promt,\n",
    ")\n",
    "\n",
    "workchain = StuffDocumentsChain(\n",
    "    llm_chain=llm_chain,\n",
    "    document_prompt=document_prompt,\n",
    "    document_variable_name=\"context\",\n",
    ")\n",
    "\n",
    "# 运行工作流\n",
    "workchain.run(\n",
    "    input_documents=reorder_docs,\n",
    "    query=\"凯尔特人是哪里的球队？\",\n",
    ")"
   ]
  }
 ],
 "metadata": {
  "kernelspec": {
   "display_name": ".venv",
   "language": "python",
   "name": "python3"
  },
  "language_info": {
   "codemirror_mode": {
    "name": "ipython",
    "version": 3
   },
   "file_extension": ".py",
   "mimetype": "text/x-python",
   "name": "python",
   "nbconvert_exporter": "python",
   "pygments_lexer": "ipython3",
   "version": "3.10.10"
  }
 },
 "nbformat": 4,
 "nbformat_minor": 2
}
