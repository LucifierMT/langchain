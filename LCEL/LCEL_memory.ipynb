{
 "cells": [
  {
   "cell_type": "markdown",
   "metadata": {},
   "source": [
    "### LCEL中 Memory 的添加方式"
   ]
  },
  {
   "cell_type": "code",
   "execution_count": 2,
   "metadata": {},
   "outputs": [
    {
     "data": {
      "text/plain": [
       "{'history': []}"
      ]
     },
     "execution_count": 2,
     "metadata": {},
     "output_type": "execute_result"
    }
   ],
   "source": [
    "from langchain.memory import ConversationBufferMemory\n",
    "from langchain_core.prompts import ChatPromptTemplate,MessagesPlaceholder\n",
    "from langchain_core.runnables import RunnablePassthrough,RunnableLambda\n",
    "from langchain_community.chat_models.tongyi import ChatTongyi\n",
    "from operator import itemgetter\n",
    "\n",
    "model = ChatTongyi(model=\"qwen-plus\")\n",
    "\n",
    "prompt = ChatPromptTemplate.from_messages(\n",
    "    [\n",
    "        (\"system\",\"你是一个乐于助人的机器人\"),\n",
    "        MessagesPlaceholder(variable_name=\"history\"),\n",
    "        (\"human\",\"{input}\")\n",
    "    ]\n",
    ")\n",
    "\n",
    "memory = ConversationBufferMemory(return_messages=True)\n",
    "\n",
    "memory.load_memory_variables({})"
   ]
  },
  {
   "cell_type": "code",
   "execution_count": 8,
   "metadata": {},
   "outputs": [],
   "source": [
    "# 增加一条链\n",
    "\n",
    "chain = (\n",
    "    RunnablePassthrough.assign(\n",
    "        history=RunnableLambda(lambda _: memory.load_memory_variables({})[\"history\"])\n",
    "    )\n",
    "    | RunnablePassthrough.assign(\n",
    "        input=itemgetter(\"input\")\n",
    "    )\n",
    "    | prompt\n",
    "    | model\n",
    ")"
   ]
  },
  {
   "cell_type": "code",
   "execution_count": 9,
   "metadata": {},
   "outputs": [
    {
     "data": {
      "text/plain": [
       "AIMessage(content='你好，Mach！很高兴认识你。如果你有任何问题或需要帮助的地方，请随时告诉我！', additional_kwargs={}, response_metadata={'model_name': 'qwen-plus', 'finish_reason': 'stop', 'request_id': 'a976b048-d581-92b8-9933-b95f978c7c58', 'token_usage': {'input_tokens': 25, 'output_tokens': 20, 'total_tokens': 45, 'prompt_tokens_details': {'cached_tokens': 0}}}, id='run--ea089813-4607-4b0b-801b-f1cf7d05cba9-0')"
      ]
     },
     "execution_count": 9,
     "metadata": {},
     "output_type": "execute_result"
    }
   ],
   "source": [
    "inputs = {\"input\":\"你好，我是Mach\"}\n",
    "response = chain.invoke(inputs)\n",
    "response"
   ]
  },
  {
   "cell_type": "code",
   "execution_count": 10,
   "metadata": {},
   "outputs": [
    {
     "data": {
      "text/plain": [
       "{'history': [HumanMessage(content='你好，我是Mach', additional_kwargs={}, response_metadata={}),\n",
       "  AIMessage(content='你好，Mach！很高兴认识你。如果你有任何问题或需要帮助的地方，请随时告诉我！', additional_kwargs={}, response_metadata={})]}"
      ]
     },
     "execution_count": 10,
     "metadata": {},
     "output_type": "execute_result"
    }
   ],
   "source": [
    "# 保存记忆\n",
    "memory.save_context(inputs,{\"output\":response.content})\n",
    "memory.load_memory_variables({})"
   ]
  },
  {
   "cell_type": "code",
   "execution_count": 11,
   "metadata": {},
   "outputs": [
    {
     "data": {
      "text/plain": [
       "AIMessage(content='你好！从我们的对话来看，你目前使用的是名字“Mach”。不过，如果你在思考更深层次的“我是谁”这个问题，那可能涉及到哲学、身份认同或者个人兴趣等方面。你可以告诉我更多背景信息，这样我就能更好地回答你的问题啦！\\n\\n如果是开玩笑的话——哈哈，你就是那个正在和我聊天的有趣的人呀！ 😊', additional_kwargs={}, response_metadata={'model_name': 'qwen-plus', 'finish_reason': 'stop', 'request_id': 'e1bedc5e-0c6c-9a36-a20a-e32bbf752f15', 'token_usage': {'input_tokens': 60, 'output_tokens': 77, 'total_tokens': 137, 'prompt_tokens_details': {'cached_tokens': 0}}}, id='run--fe6ebf6d-4113-46fd-a80b-5e51ca224840-0')"
      ]
     },
     "execution_count": 11,
     "metadata": {},
     "output_type": "execute_result"
    }
   ],
   "source": [
    "inputs = {\"input\":\"你好，我是谁？\"}\n",
    "response = chain.invoke(inputs)\n",
    "response"
   ]
  },
  {
   "cell_type": "markdown",
   "metadata": {},
   "source": [
    "#### 使用Redis实现长时记忆"
   ]
  },
  {
   "cell_type": "code",
   "execution_count": 12,
   "metadata": {},
   "outputs": [
    {
     "name": "stdout",
     "output_type": "stream",
     "text": [
      "Collecting redis\n",
      "  Downloading redis-6.2.0-py3-none-any.whl.metadata (10 kB)\n",
      "Requirement already satisfied: async-timeout>=4.0.3 in d:\\my documents\\desktop\\langchain\\.venv\\lib\\site-packages (from redis) (4.0.3)\n",
      "Downloading redis-6.2.0-py3-none-any.whl (278 kB)\n",
      "Installing collected packages: redis\n",
      "Successfully installed redis-6.2.0\n"
     ]
    }
   ],
   "source": [
    "! pip install redis"
   ]
  },
  {
   "cell_type": "code",
   "execution_count": 13,
   "metadata": {},
   "outputs": [],
   "source": [
    "from typing import Optional\n",
    "from langchain_community.chat_message_histories import RedisChatMessageHistory\n",
    "from langchain_community.chat_models.tongyi import ChatTongyi\n",
    "from langchain_core.chat_history import BaseChatMessageHistory\n",
    "from langchain_core.prompts import ChatPromptTemplate, MessagesPlaceholder\n",
    "from langchain_core.runnables.history import RunnableWithMessageHistory"
   ]
  },
  {
   "cell_type": "code",
   "execution_count": 14,
   "metadata": {},
   "outputs": [],
   "source": [
    "prompt = ChatPromptTemplate.from_messages(\n",
    "    [\n",
    "        (\"system\",\"你是一个擅长{ability}的助手\"),\n",
    "        MessagesPlaceholder(variable_name=\"history\"),\n",
    "        (\"human\",\"question\")\n",
    "    ]\n",
    ")\n",
    "\n",
    "model = ChatTongyi(model=\"qwen-plus\",temperature=0)\n",
    "\n",
    "chain = prompt | model"
   ]
  },
  {
   "cell_type": "code",
   "execution_count": 15,
   "metadata": {},
   "outputs": [],
   "source": [
    "chain_with_history = RunnableWithMessageHistory(\n",
    "    chain,\n",
    "    # 使用redis存储聊天记录\n",
    "    lambda session_id: RedisChatMessageHistory(session_id=session_id,url=\"...\"),\n",
    "    input_messages_key=\"question\",\n",
    "    history_messages_key=\"history\"\n",
    ")"
   ]
  },
  {
   "cell_type": "code",
   "execution_count": null,
   "metadata": {},
   "outputs": [],
   "source": [
    "# 每次调用都会保存聊天记录，需要有对应的session_id\n",
    "\n",
    "chain_with_history.invoke(\n",
    "    {\n",
    "        \"ability\":\"历史\",\n",
    "        \"question\":\"中国建都时间最久的城市是哪个？\"\n",
    "    },\n",
    "    config=\n",
    "    {\n",
    "        \"configurable\":\n",
    "        {\n",
    "            \"session_id\":\"...\"\n",
    "        }\n",
    "    }\n",
    ")"
   ]
  },
  {
   "cell_type": "code",
   "execution_count": null,
   "metadata": {},
   "outputs": [],
   "source": [
    "chain_with_history.invoke(\n",
    "    {\n",
    "        \"ability\":\"历史\",\n",
    "        \"question\":\"它有多少年建都历史？\"\n",
    "    },\n",
    "    config=\n",
    "    {\n",
    "        \"configurable\":\n",
    "        {\n",
    "            \"session_id\":\"...\"\n",
    "        }\n",
    "    }\n",
    ")"
   ]
  }
 ],
 "metadata": {
  "kernelspec": {
   "display_name": ".venv",
   "language": "python",
   "name": "python3"
  },
  "language_info": {
   "codemirror_mode": {
    "name": "ipython",
    "version": 3
   },
   "file_extension": ".py",
   "mimetype": "text/x-python",
   "name": "python",
   "nbconvert_exporter": "python",
   "pygments_lexer": "ipython3",
   "version": "3.10.10"
  }
 },
 "nbformat": 4,
 "nbformat_minor": 2
}
