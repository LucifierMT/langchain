{
 "cells": [
  {
   "cell_type": "markdown",
   "metadata": {},
   "source": [
    "### 如何给agent正确增加记忆\n",
    "- 将memory插入到提示词模板中"
   ]
  },
  {
   "cell_type": "code",
   "execution_count": 13,
   "metadata": {},
   "outputs": [],
   "source": [
    "from langchain.agents import load_tools, AgentType, initialize_agent\n",
    "from langchain.memory import ConversationBufferMemory\n",
    "from langchain.chat_models.tongyi import ChatTongyi\n",
    "from langchain.utilities import SerpAPIWrapper\n",
    "from langchain.chains.llm_math.base import LLMMathChain\n",
    "from langchain.prompts import MessagesPlaceholder\n",
    "import os\n",
    "\n",
    "llm = ChatTongyi(model=\"qwen-plus\", temperature=0, max_token=1000)\n",
    "\n",
    "SERPAPI_API_KEY=os.getenv(\"SERPAPI_API_KEY\")\n",
    "\n",
    "tools=load_tools([\"serpapi\",\"llm-math\"],llm=llm)\n",
    "\n",
    "# 增加memory\n",
    "memory=ConversationBufferMemory(\n",
    "    memory_key=\"Memory\",\n",
    "    return_messages=True\n",
    ")\n",
    "\n",
    "agent=initialize_agent(\n",
    "    tools,\n",
    "    llm,\n",
    "    AgentType.OPENAI_FUNCTIONS,\n",
    "    verbose=True,\n",
    "    memory=memory,\n",
    "    agent_kwargs={\n",
    "        \"extra_prompt_messages\":[\n",
    "            MessagesPlaceholder(variable_name=\"Memory\"),\n",
    "            MessagesPlaceholder(variable_name=\"agent_scratchpad\"),\n",
    "        ]\n",
    "    }\n",
    ")"
   ]
  },
  {
   "cell_type": "code",
   "execution_count": 14,
   "metadata": {},
   "outputs": [
    {
     "name": "stdout",
     "output_type": "stream",
     "text": [
      "content='You are a helpful AI assistant.' additional_kwargs={} response_metadata={}\n",
      "variable_name='Memory'\n",
      "variable_name='agent_scratchpad'\n"
     ]
    }
   ],
   "source": [
    "# 查看默认的prompt被渲染后的样子\n",
    "print(agent.agent.prompt.messages[0])\n",
    "print(agent.agent.prompt.messages[1])\n",
    "print(agent.agent.prompt.messages[2])"
   ]
  },
  {
   "cell_type": "code",
   "execution_count": 15,
   "metadata": {},
   "outputs": [
    {
     "name": "stderr",
     "output_type": "stream",
     "text": [
      "C:\\Users\\Administrator\\AppData\\Local\\Temp\\ipykernel_25216\\3942205530.py:1: LangChainDeprecationWarning: The method `Chain.run` was deprecated in langchain 0.1.0 and will be removed in 1.0. Use :meth:`~invoke` instead.\n",
      "  agent.run(\"你好，我是你马爷\")\n"
     ]
    },
    {
     "name": "stdout",
     "output_type": "stream",
     "text": [
      "\n",
      "\n",
      "\u001b[1m> Entering new AgentExecutor chain...\u001b[0m\n",
      "\u001b[32;1m\u001b[1;3m你好，很高兴见到你。有什么我可以帮你的吗？如果你有任何问题或需要帮助的地方，请随时告诉我。\u001b[0m\n",
      "\n",
      "\u001b[1m> Finished chain.\u001b[0m\n"
     ]
    },
    {
     "data": {
      "text/plain": [
       "'你好，很高兴见到你。有什么我可以帮你的吗？如果你有任何问题或需要帮助的地方，请随时告诉我。'"
      ]
     },
     "execution_count": 15,
     "metadata": {},
     "output_type": "execute_result"
    }
   ],
   "source": [
    "agent.run(\"你好，我是你马爷\")"
   ]
  },
  {
   "cell_type": "code",
   "execution_count": 16,
   "metadata": {},
   "outputs": [
    {
     "name": "stdout",
     "output_type": "stream",
     "text": [
      "\n",
      "\n",
      "\u001b[1m> Entering new AgentExecutor chain...\u001b[0m\n",
      "\u001b[32;1m\u001b[1;3m根据你的描述，你称自己为“马爷”。这可能是一个昵称或者你在某个特定语境下的自称。除此之外，没有更多的信息来确切地判断你是谁。如果你能提供更多的背景信息或细节，我可能会更好地理解并回答你的问题。不过，请记得，我会严格遵守不涉及政治的原则。\u001b[0m\n",
      "\n",
      "\u001b[1m> Finished chain.\u001b[0m\n"
     ]
    },
    {
     "data": {
      "text/plain": [
       "'根据你的描述，你称自己为“马爷”。这可能是一个昵称或者你在某个特定语境下的自称。除此之外，没有更多的信息来确切地判断你是谁。如果你能提供更多的背景信息或细节，我可能会更好地理解并回答你的问题。不过，请记得，我会严格遵守不涉及政治的原则。'"
      ]
     },
     "execution_count": 16,
     "metadata": {},
     "output_type": "execute_result"
    }
   ],
   "source": [
    "agent.run(\"我是谁？\")"
   ]
  },
  {
   "cell_type": "code",
   "execution_count": 17,
   "metadata": {},
   "outputs": [
    {
     "name": "stdout",
     "output_type": "stream",
     "text": [
      "\n",
      "\n",
      "\u001b[1m> Entering new AgentExecutor chain...\u001b[0m\n",
      "\u001b[32;1m\u001b[1;3m截至目前，我们聊了以下内容：\n",
      "\n",
      "1. 你以“马爷”的身份向我打招呼，我回应了你的问候，并询问是否需要帮助。\n",
      "2. 你询问了“我是谁？”，我根据你提供的信息回答说，你自称“马爷”，这可能是一个昵称或特定语境下的自称。\n",
      "\n",
      "我们的对话主要围绕自我介绍和身份确认展开。如果你还有其他问题或需要进一步的帮助，请告诉我！\u001b[0m\n",
      "\n",
      "\u001b[1m> Finished chain.\u001b[0m\n"
     ]
    },
    {
     "data": {
      "text/plain": [
       "'截至目前，我们聊了以下内容：\\n\\n1. 你以“马爷”的身份向我打招呼，我回应了你的问候，并询问是否需要帮助。\\n2. 你询问了“我是谁？”，我根据你提供的信息回答说，你自称“马爷”，这可能是一个昵称或特定语境下的自称。\\n\\n我们的对话主要围绕自我介绍和身份确认展开。如果你还有其他问题或需要进一步的帮助，请告诉我！'"
      ]
     },
     "execution_count": 17,
     "metadata": {},
     "output_type": "execute_result"
    }
   ],
   "source": [
    "agent.run(\"截至目前我们聊了什么？\")"
   ]
  }
 ],
 "metadata": {
  "kernelspec": {
   "display_name": ".venv",
   "language": "python",
   "name": "python3"
  },
  "language_info": {
   "codemirror_mode": {
    "name": "ipython",
    "version": 3
   },
   "file_extension": ".py",
   "mimetype": "text/x-python",
   "name": "python",
   "nbconvert_exporter": "python",
   "pygments_lexer": "ipython3",
   "version": "3.10.10"
  }
 },
 "nbformat": 4,
 "nbformat_minor": 2
}
