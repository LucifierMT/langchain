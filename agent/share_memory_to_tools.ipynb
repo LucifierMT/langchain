{
 "cells": [
  {
   "cell_type": "markdown",
   "metadata": {},
   "source": [
    "### 在agent与tool之间共享记忆\n",
    "- 自定义一个工具用来LLMChain总结内容\n",
    "- 使用readonly memory来共享记忆\n",
    "- 观察共享与不共享的区别"
   ]
  },
  {
   "cell_type": "code",
   "execution_count": 15,
   "metadata": {},
   "outputs": [],
   "source": [
    "from langchain.agents import initialize_agent,Tool,AgentType\n",
    "from langchain.memory import ConversationBufferMemory,ReadOnlySharedMemory\n",
    "from langchain_community.chat_models.tongyi import ChatTongyi\n",
    "from langchain.chains import LLMChain\n",
    "from langchain.prompts import PromptTemplate,MessagesPlaceholder\n",
    "from langchain.utilities import SerpAPIWrapper"
   ]
  },
  {
   "cell_type": "code",
   "execution_count": 17,
   "metadata": {},
   "outputs": [],
   "source": [
    "llm=ChatTongyi(model=\"qwen-plus\",temperature=0,max_token=1000)\n",
    "\n",
    "template=\"\"\"以下是一段AI机器人和人类的对话：\\n{chat_history}\\n根据输入和上面的对话记录写一份对话总结。输入：{input}\\n\"\"\"\n",
    "\n",
    "prompt=PromptTemplate(\n",
    "    input_variables=[\"input\",\"chat_history\"],\n",
    "    template=template\n",
    ")\n",
    "\n",
    "memory=ConversationBufferMemory(\n",
    "    memory_key=\"chat_history\",\n",
    "    return_messages=True\n",
    ")\n",
    "\n",
    "readonly_memory=ReadOnlySharedMemory(memory=memory)\n",
    "\n",
    "summary_chain=LLMChain(\n",
    "    llm=llm,\n",
    "    prompt=prompt,\n",
    "    memory=readonly_memory,\n",
    "    verbose=True,\n",
    ")"
   ]
  },
  {
   "cell_type": "code",
   "execution_count": 19,
   "metadata": {},
   "outputs": [
    {
     "name": "stdout",
     "output_type": "stream",
     "text": [
      "[Tool(name='Search', description='当需要了解实时的信息或者你不知道的事的时候可以使用搜索工具', func=<bound method SerpAPIWrapper.run of SerpAPIWrapper(search_engine=<class 'serpapi.google_search.GoogleSearch'>, params={'engine': 'google', 'google_domain': 'google.com', 'gl': 'us', 'hl': 'en'}, serpapi_api_key='99f1173dd92d5d1ad2bb2cc7500fe5ef968bc070b5302aa2adec81fa67f34dd1', aiosession=None)>), Tool(name='Summary', description='当你被要求总结一段对话的时候可以使用这个工具，工具输入必须为字符串，只在必要时使用', func=<function SummaryChainFunc at 0x000001C9C9A72320>)]\n"
     ]
    }
   ],
   "source": [
    "# 构建工具\n",
    "\n",
    "# 搜索工具\n",
    "search=SerpAPIWrapper()\n",
    "\n",
    "# 总结工具\n",
    "def SummaryChainFunc(history):\n",
    "    print(\"\\n----------总结链开始运行----------\\n\")\n",
    "    print(\"输入历史:\",history)\n",
    "    summary_chain.run(history)\n",
    "\n",
    "tools=[\n",
    "    Tool(\n",
    "        name=\"Search\",\n",
    "        func=search.run,\n",
    "        description=\"当需要了解实时的信息或者你不知道的事的时候可以使用搜索工具\"\n",
    "    ),\n",
    "    Tool(\n",
    "        name=\"Summary\",\n",
    "        func=SummaryChainFunc,\n",
    "        description=\"当你被要求总结一段对话的时候可以使用这个工具，工具输入必须为字符串，只在必要时使用\"\n",
    "    )\n",
    "]\n",
    "\n",
    "print(tools)"
   ]
  },
  {
   "cell_type": "code",
   "execution_count": 8,
   "metadata": {},
   "outputs": [
    {
     "name": "stdout",
     "output_type": "stream",
     "text": [
      "Answer the following questions as best you can. You have access to the following tools:\n",
      "\n",
      "Search(query: str, **kwargs: Any) -> str - 当需要了解实时的信息或者你不知道的事的时候可以使用搜索工具\n",
      "Summary(history) - 当你被要求总结一段对话的时候可以使用这个工具，工具输入必须为字符串，只在必要时使用\n",
      "\n",
      "Use the following format:\n",
      "\n",
      "Question: the input question you must answer\n",
      "Thought: you should always think about what to do\n",
      "Action: the action to take, should be one of [Search, Summary]\n",
      "Action Input: the input to the action\n",
      "Observation: the result of the action\n",
      "... (this Thought/Action/Action Input/Observation can repeat N times)\n",
      "Thought: I now know the final answer\n",
      "Final Answer: the final answer to the original input question\n",
      "\n",
      "Begin!\n",
      "\n",
      "Question: {input}\n",
      "Thought:{agent_scratchpad}\n"
     ]
    }
   ],
   "source": [
    "# 创建agent\n",
    "\n",
    "agent_chain=initialize_agent(\n",
    "    tools=tools,\n",
    "    llm=llm,\n",
    "    agent=AgentType.ZERO_SHOT_REACT_DESCRIPTION,\n",
    "    memory=memory,\n",
    "    verbose=True,\n",
    "    handle_parsing_errors=True\n",
    ")\n",
    "\n",
    "print(agent_chain.agent.llm_chain.prompt.template) # 无历史记录"
   ]
  },
  {
   "cell_type": "code",
   "execution_count": 21,
   "metadata": {},
   "outputs": [
    {
     "name": "stdout",
     "output_type": "stream",
     "text": [
      "Have a conversation with a human, answering the following questions as best as you can.You have access to the following tools:\n",
      "\n",
      "Search(query: str, **kwargs: Any) -> str - 当需要了解实时的信息或者你不知道的事的时候可以使用搜索工具\n",
      "Summary(history) - 当你被要求总结一段对话的时候可以使用这个工具，工具输入必须为字符串，只在必要时使用\n",
      "\n",
      "Use the following format:\n",
      "\n",
      "Question: the input question you must answer\n",
      "Thought: you should always think about what to do\n",
      "Action: the action to take, should be one of [Search, Summary]\n",
      "Action Input: the input to the action\n",
      "Observation: the result of the action\n",
      "... (this Thought/Action/Action Input/Observation can repeat N times)\n",
      "Thought: I now know the final answer\n",
      "Final Answer: the final answer to the original input question\n",
      "\n",
      "\n",
      "Begin!\n",
      "{chat_history}\n",
      "Question: {input}\n",
      "Thought:{agent_scratchpad}\n",
      "\n"
     ]
    }
   ],
   "source": [
    "prefix=\"\"\"Have a conversation with a human, answering the following questions as best as you can.You have access to the following tools:\"\"\"\n",
    "suffix=\"\"\"\n",
    "Begin!\n",
    "{chat_history}\n",
    "Question: {input}\n",
    "Thought:{agent_scratchpad}\n",
    "\"\"\"\n",
    "\n",
    "agent_chain=initialize_agent(\n",
    "    tools=tools,\n",
    "    llm=llm,\n",
    "    agent=AgentType.ZERO_SHOT_REACT_DESCRIPTION,\n",
    "    verbose=True,\n",
    "    handle_parsing_errors=True,\n",
    "    agent_kwargs={\n",
    "        \"prefix\":prefix,\n",
    "        \"suffix\":suffix,\n",
    "        \"agent_kwargs\":MessagesPlaceholder(\"agent_scratchpad\"),\n",
    "        \"chat_history\":MessagesPlaceholder(\"chat_history\"),\n",
    "        \"input\":MessagesPlaceholder(\"input\")\n",
    "    },\n",
    "    memory=memory\n",
    ")\n",
    "\n",
    "print(agent_chain.agent.llm_chain.prompt.template)"
   ]
  },
  {
   "cell_type": "code",
   "execution_count": 24,
   "metadata": {},
   "outputs": [
    {
     "name": "stdout",
     "output_type": "stream",
     "text": [
      "\n",
      "\n",
      "\u001b[1m> Entering new AgentExecutor chain...\u001b[0m\n",
      "\u001b[32;1m\u001b[1;3m我需要查找实时信息来回答这个问题。\n",
      "Action: Search\n",
      "Action Input: 现任美国总统是谁？简单描述下他\u001b[0m\n",
      "Observation: \u001b[36;1m\u001b[1;3m['美利坚合众国总统（英语：President of the United States，缩写为POTUS；中文简称美国总统）是美国的国家元首、政府首脑和三军统帅。根据1787年通过的《美国宪法》而设立， ...', '1789年，选举人团投票一致通过，选举出乔治·华盛顿为第1任美国总统，他在其八年总统任期内没有加入任何政治派别或政党。他至今仍是唯一一位从未加入过任何政党的美国总统。第7 ...', '美国总统（President of the United States of America）是美国国家元首、政府首脑兼武装部队总司令。总统通过间接选举产生，现任总统为共和党籍的唐纳德·特朗普。', '美国前总统唐纳德·特朗普（Donald Trump）击败现任副总统卡玛拉·哈里斯（Kamala Harris），赢得了一个新的为期四年的总统任期。', '美国当选总统唐纳德·特朗普有望赢得普选，临时计票显示他领先民主党对手卡玛拉·哈里斯近500 万张选票。', '唐纳德·特朗普（Donald Trump），1946年6月14日出生于美国纽约，祖籍德国巴伐利亚自由州，毕业于宾夕法尼亚大学沃顿商学院，德裔美国共和党籍政治家、企业家、房地产商人、 ...', '美国东部时间6月27日晚9时，在佐治亚州亚特兰大市，2024年两位总统候选人——民主党现任总统拜登（Joe Biden）和共和党前总统特朗普（Donald Trump），举行首场 ...', '共和党总统候选人特朗普确定当选新任美国总统，民主党的卡玛拉·哈里斯表示将协助他顺利交接。中国国家主席习近平已向特朗普致贺电，并主张中美关系“合则 ...', '特朗普与拜登很有可能将再次在总统大选中对垒，对美国来说，这将超越自由与保守的两党二元对决，而更是关乎种族、文化、经济以及美国人认同感的决战。', '随着2024年美国总统大选日益临近，美国的富豪们也投入战局，对自己支持的政党倾囊相助。 随着泰勒·斯威夫特宣布将在大选投票中支持现任副总统卡马拉· ...']\u001b[0m\n",
      "Thought:\u001b[32;1m\u001b[1;3m根据搜索结果，现任美国总统是唐纳德·特朗普。他是美国共和党籍政治家、企业家、房地产商人。然而，需要注意的是，搜索结果中还提到了2024年美国总统大选的信息，这表明特朗普可能正在竞选连任或重新竞选总统。此外，还有提到民主党现任总统拜登，但没有明确说明他是否为现任总统。因此，我需要进一步确认当前的总统信息。\n",
      "Action: Search\n",
      "Action Input: 2023年美国总统是谁\u001b[0m\n",
      "Observation: \u001b[36;1m\u001b[1;3m['Joe Biden (乔·拜登) type: 46th U.S. President.', 'Joe Biden (乔·拜登) kgmid: /m/012gx2.', 'Joe Biden (乔·拜登) born: November 20, 1942 (age 82 years), Scranton, PA.', 'Joe Biden (乔·拜登) organizations_founded: Biden Foundation.', 'Joe Biden (乔·拜登) grandchildren: Navy Joan Roberts, Natalie Biden, Maisy Biden, Naomi Biden, Robert Biden II, Finnegan Biden.', 'Joe Biden (乔·拜登) grandparents: Mary Elizabeth Robinette Biden, Ambrose J. Finnegan, Joseph H. Biden, Geraldine C. Blewitt.', 'Joe Biden (乔·拜登) great_grandparents: James Finnegan.', 'Joe Biden (乔·拜登) marriage_location: New York, NY.', '小约瑟夫·罗比内特·拜登（英语：Joseph Robinette Biden Jr.， 聆听/ˈbaɪdən/ BY-dən；1942年11月20日—），通称乔·拜登（Joe Biden），美国民主党籍资深政治家，出生于宾夕法尼亚 ...', '乔·拜登总统任期（英语：Presidency of Joe Biden），亦称为拜登政府，自2021年1月20日执政至2025年1月20日，而乔·拜登也于当日美国东部时间中午正式宣誓就职为第46任美国总统。', '美国前总统唐纳德·特朗普（Donald Trump）击败现任副总统卡玛拉·哈里斯（Kamala Harris），赢得了一个新的为期四年的总统任期。', '美国前总统唐纳德·特朗普（Donal Trump，又译川普）在爱荷华州的共和党初选“党团会议”（ Caucus ）投票中大胜，这也巩固了他在2024年共和党初选明确的领先 ...', '2024年美国总统选举（2024 United States Presidential Election），是2024年11月5日举行的选举活动，旨在选举美国总统和副总统。选举采用选举人团制度，选民在50个州及 ...', '4月24日，在美国首都华盛顿白宫，美国总统拜登在一场活动上讲话。新华社发（亚伦摄）. 新华社华盛顿4月25日电（记者孙丁）美国总统、民主党人拜登25日正式 ...', '唐纳德·特朗普（Donald Trump），1946年6月14日出生于美国纽约，祖籍德国巴伐利亚自由州，毕业于宾夕法尼亚大学沃顿商学院，德裔美国共和党籍政治家、企业家、房地产商人、 ...', '2023-11-16 10:23. 【中大小】. 打印. 当地时间2023年11月15日，国家主席习近平在美国旧金山斐洛里庄园同美国总统拜登举行中美元首会晤。两国元首就事关中美关系的战略 ...', '美国总统乔·拜登表示，现在是“将火炬传递给”新一代的时候了，这是他退出2024 年总统竞选以来首次向全国发表讲话。', '乔·拜登总统的连任竞选活动正处于十字路口，由于他上个月在与特朗普辩论中的表现乏善可陈，他面临着越来越多的党内成员要求他退选的呼声。']\u001b[0m\n",
      "Thought:\u001b[32;1m\u001b[1;3m根据搜索结果，2023年的美国总统是乔·拜登。他是美国民主党籍资深政治家，出生于1942年11月20日。拜登于2021年1月20日正式宣誓就职为第46任美国总统，任期至2025年1月20日。\n",
      "\n",
      "Final Answer: 现任美国总统是乔·拜登。他是美国民主党籍资深政治家，出生于1942年11月20日。拜登于2021年1月20日正式宣誓就职为第46任美国总统，任期至2025年1月20日。\u001b[0m\n",
      "\n",
      "\u001b[1m> Finished chain.\u001b[0m\n"
     ]
    },
    {
     "data": {
      "text/plain": [
       "'现任美国总统是乔·拜登。他是美国民主党籍资深政治家，出生于1942年11月20日。拜登于2021年1月20日正式宣誓就职为第46任美国总统，任期至2025年1月20日。'"
      ]
     },
     "execution_count": 24,
     "metadata": {},
     "output_type": "execute_result"
    }
   ],
   "source": [
    "agent_chain.run(input=\"现任美国总统是谁？简单描述下他。\")"
   ]
  },
  {
   "cell_type": "code",
   "execution_count": 25,
   "metadata": {},
   "outputs": [
    {
     "name": "stdout",
     "output_type": "stream",
     "text": [
      "\n",
      "\n",
      "\u001b[1m> Entering new AgentExecutor chain...\u001b[0m\n",
      "\u001b[32;1m\u001b[1;3m 我需要查找关于乔·拜登夫人的信息。\n",
      "Action: Search\n",
      "Action Input: 乔·拜登的夫人是谁？她的简介。\u001b[0m\n",
      "Observation: \u001b[36;1m\u001b[1;3m吉尔·特蕾西·拜登（英语：Jill Tracy Biden，1951年6月3日—），婚前原姓雅各布斯（Jacobs），曾用姓史蒂文森（Stevenson），是一位美国教师，曾任美国第一夫人，即美国第46任总统乔·拜登之妻子。 吉尔·拜登生于新泽西州大西洋县的哈默顿，在宾夕法尼亚州蒙哥马利县的柳林长大。\u001b[0m\n",
      "Thought:\u001b[32;1m\u001b[1;3mI now know the final answer.  \n",
      "Final Answer: 乔·拜登的夫人是吉尔·特蕾西·拜登（Jill Tracy Biden），她是一位美国教师，出生于1951年6月3日，曾在宾夕法尼亚州蒙哥马利县的柳林长大。作为美国第一夫人，她支持丈夫乔·拜登担任美国总统期间的各项活动，并继续致力于教育事业。\u001b[0m\n",
      "\n",
      "\u001b[1m> Finished chain.\u001b[0m\n"
     ]
    },
    {
     "data": {
      "text/plain": [
       "'乔·拜登的夫人是吉尔·特蕾西·拜登（Jill Tracy Biden），她是一位美国教师，出生于1951年6月3日，曾在宾夕法尼亚州蒙哥马利县的柳林长大。作为美国第一夫人，她支持丈夫乔·拜登担任美国总统期间的各项活动，并继续致力于教育事业。'"
      ]
     },
     "execution_count": 25,
     "metadata": {},
     "output_type": "execute_result"
    }
   ],
   "source": [
    "agent_chain.run(input=\"他的夫人是谁？简单描述下她。\")"
   ]
  },
  {
   "cell_type": "code",
   "execution_count": 26,
   "metadata": {},
   "outputs": [
    {
     "name": "stdout",
     "output_type": "stream",
     "text": [
      "[HumanMessage(content='中国现任国家领导人是谁？简单描述下他。', additional_kwargs={}, response_metadata={}), AIMessage(content='中国现任国家领导人是习近平。他是中国共产党中央委员会总书记、中华人民共和国主席、中国人民解放军中央军事委员会主席、中央全面深化改革委员会主任、中央国家安全委员会主席、中央网络安全和信息化委员会主任、中央财经委员会主任、中央外事工作委员会主任、中央审计委员会主任、中央依法治国委员会主任、中央全面从严治党领导小组组长、中央机构编制委员会主任、中央教育工作领导小组组长、中央和国家机关党的建设工作领导小组组长、中央精神文明建设指导委员会主任、中央人才工作协调小组组长、中央港澳工作领导小组组长、中央对台工作领导小组组长、中央军民融合发展委员会主任、中央全面依法治国委员会主任、中央全面深化改革委员会主任、中央审计委员会主任、中央生态环境保护督察工作领导小组组长、中央全面推动长江经济带发展领导小组组长、中央黄河流域生态保护和高质量发展领导小组组长、中央乡村振兴工作领导小组组长、中央财经委员会主任、中央外事工作委员会主任、中央国家安全委员会主席、中央网络和信息化委员会主任、中央全面从严治党领导小组组长、中央机构编制委员会主任等职务。作为党和国家的核心，他领导着中国的发展方向，致力于实现中华民族伟大复兴的中国梦。', additional_kwargs={}, response_metadata={}), HumanMessage(content='现任美国总统是谁？简单描述下他。', additional_kwargs={}, response_metadata={}), AIMessage(content='现任美国总统是乔·拜登。他是美国民主党籍资深政治家，出生于1942年11月20日。拜登于2021年1月20日正式宣誓就职为第46任美国总统，任期至2025年1月20日。', additional_kwargs={}, response_metadata={}), HumanMessage(content='他的夫人是谁？简单描述下她。', additional_kwargs={}, response_metadata={}), AIMessage(content='乔·拜登的夫人是吉尔·特蕾西·拜登（Jill Tracy Biden），她是一位美国教师，出生于1951年6月3日，曾在宾夕法尼亚州蒙哥马利县的柳林长大。作为美国第一夫人，她支持丈夫乔·拜登担任美国总统期间的各项活动，并继续致力于教育事业。', additional_kwargs={}, response_metadata={})]\n"
     ]
    }
   ],
   "source": [
    "print(agent_chain.memory.buffer)"
   ]
  },
  {
   "cell_type": "code",
   "execution_count": 27,
   "metadata": {},
   "outputs": [
    {
     "name": "stdout",
     "output_type": "stream",
     "text": [
      "\n",
      "\n",
      "\u001b[1m> Entering new AgentExecutor chain...\u001b[0m\n",
      "\u001b[32;1m\u001b[1;3m我需要总结之前的对话内容。\n",
      "Action: Summary\n",
      "Action Input: 中国现任国家领导人是习近平。他是中国共产党中央委员会总书记、中华人民共和国主席、中国人民解放军中央军事委员会主席等多个职务。作为党和国家的核心，他领导着中国的发展方向，致力于实现中华民族伟大复兴的中国梦。现任美国总统是乔·拜登。他是美国民主党籍资深政治家，出生于1942年11月20日。拜登于2021年1月20日正式宣誓就职为第46任美国总统，任期至2025年1月20日。乔·拜登的夫人是吉尔·特蕾西·拜登（Jill Tracy Biden），她是一位美国教师，出生于1951年6月3日，曾在宾夕法尼亚州蒙哥马利县的柳林长大。作为美国第一夫人，她支持丈夫乔·拜登担任美国总统期间的各项活动，并继续致力于教育事业。\u001b[0m\n",
      "----------总结链开始运行----------\n",
      "\n",
      "输入历史: 中国现任国家领导人是习近平。他是中国共产党中央委员会总书记、中华人民共和国主席、中国人民解放军中央军事委员会主席等多个职务。作为党和国家的核心，他领导着中国的发展方向，致力于实现中华民族伟大复兴的中国梦。现任美国总统是乔·拜登。他是美国民主党籍资深政治家，出生于1942年11月20日。拜登于2021年1月20日正式宣誓就职为第46任美国总统，任期至2025年1月20日。乔·拜登的夫人是吉尔·特蕾西·拜登（Jill Tracy Biden），她是一位美国教师，出生于1951年6月3日，曾在宾夕法尼亚州蒙哥马利县的柳林长大。作为美国第一夫人，她支持丈夫乔·拜登担任美国总统期间的各项活动，并继续致力于教育事业。\n",
      "\n",
      "\n",
      "\u001b[1m> Entering new LLMChain chain...\u001b[0m\n",
      "Prompt after formatting:\n",
      "\u001b[32;1m\u001b[1;3m以下是一段AI机器人和人类的对话：\n",
      "[HumanMessage(content='中国现任国家领导人是谁？简单描述下他。', additional_kwargs={}, response_metadata={}), AIMessage(content='中国现任国家领导人是习近平。他是中国共产党中央委员会总书记、中华人民共和国主席、中国人民解放军中央军事委员会主席、中央全面深化改革委员会主任、中央国家安全委员会主席、中央网络安全和信息化委员会主任、中央财经委员会主任、中央外事工作委员会主任、中央审计委员会主任、中央依法治国委员会主任、中央全面从严治党领导小组组长、中央机构编制委员会主任、中央教育工作领导小组组长、中央和国家机关党的建设工作领导小组组长、中央精神文明建设指导委员会主任、中央人才工作协调小组组长、中央港澳工作领导小组组长、中央对台工作领导小组组长、中央军民融合发展委员会主任、中央全面依法治国委员会主任、中央全面深化改革委员会主任、中央审计委员会主任、中央生态环境保护督察工作领导小组组长、中央全面推动长江经济带发展领导小组组长、中央黄河流域生态保护和高质量发展领导小组组长、中央乡村振兴工作领导小组组长、中央财经委员会主任、中央外事工作委员会主任、中央国家安全委员会主席、中央网络和信息化委员会主任、中央全面从严治党领导小组组长、中央机构编制委员会主任等职务。作为党和国家的核心，他领导着中国的发展方向，致力于实现中华民族伟大复兴的中国梦。', additional_kwargs={}, response_metadata={}), HumanMessage(content='现任美国总统是谁？简单描述下他。', additional_kwargs={}, response_metadata={}), AIMessage(content='现任美国总统是乔·拜登。他是美国民主党籍资深政治家，出生于1942年11月20日。拜登于2021年1月20日正式宣誓就职为第46任美国总统，任期至2025年1月20日。', additional_kwargs={}, response_metadata={}), HumanMessage(content='他的夫人是谁？简单描述下她。', additional_kwargs={}, response_metadata={}), AIMessage(content='乔·拜登的夫人是吉尔·特蕾西·拜登（Jill Tracy Biden），她是一位美国教师，出生于1951年6月3日，曾在宾夕法尼亚州蒙哥马利县的柳林长大。作为美国第一夫人，她支持丈夫乔·拜登担任美国总统期间的各项活动，并继续致力于教育事业。', additional_kwargs={}, response_metadata={})]\n",
      "根据输入和上面的对话记录写一份对话总结。输入：中国现任国家领导人是习近平。他是中国共产党中央委员会总书记、中华人民共和国主席、中国人民解放军中央军事委员会主席等多个职务。作为党和国家的核心，他领导着中国的发展方向，致力于实现中华民族伟大复兴的中国梦。现任美国总统是乔·拜登。他是美国民主党籍资深政治家，出生于1942年11月20日。拜登于2021年1月20日正式宣誓就职为第46任美国总统，任期至2025年1月20日。乔·拜登的夫人是吉尔·特蕾西·拜登（Jill Tracy Biden），她是一位美国教师，出生于1951年6月3日，曾在宾夕法尼亚州蒙哥马利县的柳林长大。作为美国第一夫人，她支持丈夫乔·拜登担任美国总统期间的各项活动，并继续致力于教育事业。\n",
      "\u001b[0m\n",
      "\n",
      "\u001b[1m> Finished chain.\u001b[0m\n",
      "\n",
      "Observation: \u001b[33;1m\u001b[1;3mNone\u001b[0m\n",
      "Thought:\u001b[32;1m\u001b[1;3mI now know the final answer\n",
      "Final Answer: 我们聊了中国现任国家领导人习近平，他是党和国家的核心，致力于实现中华民族伟大复兴的中国梦。还聊了现任美国总统乔·拜登及其夫人吉尔·特蕾西·拜登，吉尔作为美国第一夫人支持丈夫的各项活动，并继续致力于教育事业。\u001b[0m\n",
      "\n",
      "\u001b[1m> Finished chain.\u001b[0m\n"
     ]
    },
    {
     "data": {
      "text/plain": [
       "'我们聊了中国现任国家领导人习近平，他是党和国家的核心，致力于实现中华民族伟大复兴的中国梦。还聊了现任美国总统乔·拜登及其夫人吉尔·特蕾西·拜登，吉尔作为美国第一夫人支持丈夫的各项活动，并继续致力于教育事业。'"
      ]
     },
     "execution_count": 27,
     "metadata": {},
     "output_type": "execute_result"
    }
   ],
   "source": [
    "agent_chain.run(input=\"截至目前我们都聊了什么？\")"
   ]
  }
 ],
 "metadata": {
  "kernelspec": {
   "display_name": ".venv",
   "language": "python",
   "name": "python3"
  },
  "language_info": {
   "codemirror_mode": {
    "name": "ipython",
    "version": 3
   },
   "file_extension": ".py",
   "mimetype": "text/x-python",
   "name": "python",
   "nbconvert_exporter": "python",
   "pygments_lexer": "ipython3",
   "version": "3.10.10"
  }
 },
 "nbformat": 4,
 "nbformat_minor": 2
}
