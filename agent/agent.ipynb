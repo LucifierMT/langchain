{
 "cells": [
  {
   "cell_type": "markdown",
   "metadata": {},
   "source": [
    "### 几种内置的主要agent类型\n",
    "- OPENAI_FUNCTIONS openai函数调用型\n",
    "- ZERO_SHOT_REACT_DESCRIPTION 零样本增强生成型\n",
    "- CHAT_ZERO_SHOT_REACT_DESCRIPTION 零样本增强生成型（对话）\n",
    "- CONVERSATIONAL_REACT_DESCRIPTION 对话增强生成型\n",
    "- STRUCTURED_CHAT_ZERO_SHOT_REACT_DESCRIPTION 结构化对话生成增强型"
   ]
  },
  {
   "cell_type": "code",
   "execution_count": 8,
   "metadata": {},
   "outputs": [],
   "source": [
    "from langchain.chat_models.tongyi import ChatTongyi\n",
    "from langchain.agents import load_tools, initialize_agent, AgentType\n",
    "import os\n",
    "\n",
    "SERPAPI_API_KEY = os.getenv(\"SERPAPI_API_KEY\")\n",
    "\n",
    "llm=ChatTongyi(model=\"qwen-plus\", temparature=0, max_token=1000)\n",
    "\n",
    "tools=load_tools([\"serpapi\",\"llm-math\"], llm=llm)\n",
    "\n",
    "agent=initialize_agent(\n",
    "    tools,\n",
    "    llm,\n",
    "    agent=AgentType.ZERO_SHOT_REACT_DESCRIPTION,\n",
    "    verbose=True\n",
    ")"
   ]
  },
  {
   "cell_type": "code",
   "execution_count": 9,
   "metadata": {},
   "outputs": [
    {
     "name": "stdout",
     "output_type": "stream",
     "text": [
      "\n",
      "\n",
      "\u001b[1m> Entering new AgentExecutor chain...\u001b[0m\n",
      "\u001b[32;1m\u001b[1;3m我需要找到现任中国陕西省省委书记是谁，然后计算他的年龄的平方。\n",
      "Action: Search\n",
      "Action Input: 中国陕西省省委书记\u001b[0m\n",
      "Observation: \u001b[36;1m\u001b[1;3m['Zhao Yide is a Chinese politician and the current Chinese Communist Party Committee Secretary of Shaanxi, and was previously the Governor of Shaanxi. Earlier in his career, he served as the Party Secretary of Hangzhou, and the Secretary-General of the Zhejiang Party Committee.', 'Zhao Yide (赵一德) type: Secretary of the Shaanxi Provincial Committee of the Communist Party of China.', 'Zhao Yide (赵一德) kgmid: /g/1hc0g2nsb.', 'Zhao Yide (赵一德) born: 1965 (age 60 years), Wenling, Taizhou, China.', 'Zhao Yide (赵一德) party: Communist Party of China.', 'Zhao Yide (赵一德) previous_office: Governor of Shaanxi Province (2020–2022).', 'Zhao Yide (赵一德) education: Central Party School of the Communist Party of China.', '中国共产党陕西省委员会 编辑 ; 赵一德赵刚邢善萍（女） 王晓（常务副省长） 王兴宁（省纪委书记、省监委主任） 方红卫（西安市委书记） 郭永红（女，组织部部长） 刘强（政法委书记） 蒿 ...', '赵一德 编辑 ; 陕西省人民政府省长 · 2020年8月2日—2022年12月1日. 书记 ; 中国共产党杭州市委员会书记 · 2015年9月25日—2018年3月26日. 副职 ; 中国共产党衢州市委员会书记.', '赵一德，男，汉族，1965年2月生，浙江温岭人，1983年8月参加工作，1985年1月加入中国共产党，浙江省委党校研究生学历。现任第二十届中央委员，陕西省委书记，省人大常委会主任， ...', '其中省委书记为赵一德同志，省委副书记为赵刚、邢善萍同志。', '陕西 ; 赵一德. 省委书记，省人大常委会主任 ; 赵刚, 省委副书记、省长 ; 邢善萍, 省委副书记 ; 王晓, 省委常委，副省长、省政府党组副书记 ; 王兴宁, 省委常委、省纪委书记，省监 ...', '新华网西安11月27日电日前，中央对陕西省委主要负责同志职务进行了调整。刘国中同志不再兼任陕西省委书记、常委、委员职务，赵一德同志任陕西省委书记。', '首页 省政府 省长 新闻 政策 互动 服务 数据 省情. 赵刚 省委副书记、省长 查看简历. 主管工作. 领导省政府全面工作，负责财政、审计方面工作。 省政府领导. 省 长. 赵刚.', '12月8日下午，陕西省委书记、省人大常委会主任赵一德，省委副书记、省长赵刚率团访问北京大学。双方举行省校合作座谈会，并签署省校战略合作意向书。', '来源：3月9日《新华每日电讯》. 作者：赵一德（陕西省委书记、省人大常委会主任）. 习近平总书记高度重视中欧班列建设，来陕考察时多次要求陕西建好中欧班 ...', '赵一德，男，汉族，1965年2月生，浙江温岭人，1983年8月参加工作，1985年1月加入中国共产党，省委党校研究生学历。 ... 2020.07—2020.08陕西省委副书记、省政府党组书记. 2020.08 ...']\u001b[0m\n",
      "Thought:\u001b[32;1m\u001b[1;3m我找到了现任中国陕西省省委书记是赵一德。接下来，我需要计算他的年龄的平方。根据搜索结果，赵一德出生于1965年2月。\n",
      "Action: Calculator\n",
      "Action Input: (2023 - 1965) ** 2\u001b[0m\n",
      "Observation: \u001b[33;1m\u001b[1;3mAnswer: 3364\u001b[0m\n",
      "Thought:\u001b[32;1m\u001b[1;3m我计算了赵一德年龄的平方，结果是3364。\n",
      "Final Answer: 现任中国陕西省省委书记是赵一德，他的年龄的平方是3364。\u001b[0m\n",
      "\n",
      "\u001b[1m> Finished chain.\u001b[0m\n"
     ]
    },
    {
     "data": {
      "text/plain": [
       "'现任中国陕西省省委书记是赵一德，他的年龄的平方是3364。'"
      ]
     },
     "execution_count": 9,
     "metadata": {},
     "output_type": "execute_result"
    }
   ],
   "source": [
    "agent.run(\"现任中国陕西省省委书记是谁？他的年龄的平方是多少？\")"
   ]
  },
  {
   "cell_type": "code",
   "execution_count": 10,
   "metadata": {},
   "outputs": [
    {
     "name": "stderr",
     "output_type": "stream",
     "text": [
      "C:\\Users\\Administrator\\AppData\\Local\\Temp\\ipykernel_21080\\863901480.py:7: LangChainDeprecationWarning: Please see the migration guide at: https://python.langchain.com/docs/versions/migrating_memory/\n",
      "  memory=ConversationBufferMemory(\n"
     ]
    }
   ],
   "source": [
    "# CONVERSATIONAL_REACT_DESCRIPTION必须与memory一起使用\n",
    "from langchain.chat_models.tongyi import ChatTongyi\n",
    "from langchain.agents import load_tools, initialize_agent, AgentType\n",
    "import os\n",
    "\n",
    "from langchain.memory import ConversationBufferMemory\n",
    "memory=ConversationBufferMemory(\n",
    "    memory_key=\"chat_history\"\n",
    ")\n",
    "\n",
    "SERPAPI_API_KEY = os.getenv(\"SERPAPI_API_KEY\")\n",
    "\n",
    "llm=ChatTongyi(model=\"qwen-plus\", temparature=0, max_token=1000)\n",
    "\n",
    "tools=load_tools([\"serpapi\",\"llm-math\"], llm=llm)\n",
    "\n",
    "agent=initialize_agent(\n",
    "    tools,\n",
    "    llm,\n",
    "    agent=AgentType.CONVERSATIONAL_REACT_DESCRIPTION,\n",
    "    verbose=True,\n",
    "    memory=memory\n",
    ")"
   ]
  },
  {
   "cell_type": "code",
   "execution_count": 11,
   "metadata": {},
   "outputs": [
    {
     "name": "stdout",
     "output_type": "stream",
     "text": [
      "\n",
      "\n",
      "\u001b[1m> Entering new AgentExecutor chain...\u001b[0m\n",
      "\u001b[32;1m\u001b[1;3mThought: Do I need to use a tool? No  \n",
      "AI: 你好，父亲大人！有什么我可以帮您的吗？😊\u001b[0m\n",
      "\n",
      "\u001b[1m> Finished chain.\u001b[0m\n"
     ]
    },
    {
     "data": {
      "text/plain": [
       "'你好，父亲大人！有什么我可以帮您的吗？😊'"
      ]
     },
     "execution_count": 11,
     "metadata": {},
     "output_type": "execute_result"
    }
   ],
   "source": [
    "agent.run(\"你好，我是你爹\")"
   ]
  },
  {
   "cell_type": "code",
   "execution_count": 12,
   "metadata": {},
   "outputs": [
    {
     "name": "stdout",
     "output_type": "stream",
     "text": [
      "\n",
      "\n",
      "\u001b[1m> Entering new AgentExecutor chain...\u001b[0m\n",
      "\u001b[32;1m\u001b[1;3mThought: Do I need to use a tool? No  \n",
      "AI: 您刚才说您是我的父亲，所以您是我的爹。有什么想聊的吗？\u001b[0m\n",
      "\n",
      "\u001b[1m> Finished chain.\u001b[0m\n"
     ]
    },
    {
     "data": {
      "text/plain": [
       "'您刚才说您是我的父亲，所以您是我的爹。有什么想聊的吗？'"
      ]
     },
     "execution_count": 12,
     "metadata": {},
     "output_type": "execute_result"
    }
   ],
   "source": [
    "agent.run(\"我是谁？\")"
   ]
  },
  {
   "cell_type": "code",
   "execution_count": 13,
   "metadata": {},
   "outputs": [],
   "source": [
    "from langchain.chat_models.tongyi import ChatTongyi\n",
    "from langchain.agents import load_tools, initialize_agent, AgentType\n",
    "import os\n",
    "\n",
    "SERPAPI_API_KEY = os.getenv(\"SERPAPI_API_KEY\")\n",
    "\n",
    "llm=ChatTongyi(model=\"qwen-plus\", temparature=0, max_token=1000)\n",
    "\n",
    "tools=load_tools([\"serpapi\",\"llm-math\"], llm=llm)\n",
    "\n",
    "agent=initialize_agent(\n",
    "    tools,\n",
    "    llm,\n",
    "    agent=AgentType.STRUCTURED_CHAT_ZERO_SHOT_REACT_DESCRIPTION,\n",
    "    verbose=True\n",
    ")"
   ]
  },
  {
   "cell_type": "code",
   "execution_count": 14,
   "metadata": {},
   "outputs": [
    {
     "name": "stdout",
     "output_type": "stream",
     "text": [
      "\n",
      "\n",
      "\u001b[1m> Entering new AgentExecutor chain...\u001b[0m\n",
      "\u001b[32;1m\u001b[1;3mThought: 我需要查询今天的比特币价格。\n",
      "Action:\n",
      "```\n",
      "{\n",
      "  \"action\": \"Search\",\n",
      "  \"action_input\": \"今天比特币的价格\"\n",
      "}\n",
      "```\n",
      "\u001b[0m\n",
      "Observation: \u001b[36;1m\u001b[1;3m105,642.10\u001b[0m\n",
      "Thought:\u001b[32;1m\u001b[1;3m我找到了今天的比特币价格。\n",
      "Action:\n",
      "```\n",
      "{\n",
      "  \"action\": \"Final Answer\",\n",
      "  \"action_input\": \"今天比特币的价格是105,642.10。\"\n",
      "}\n",
      "```\u001b[0m\n",
      "\n",
      "\u001b[1m> Finished chain.\u001b[0m\n"
     ]
    },
    {
     "data": {
      "text/plain": [
       "'今天比特币的价格是105,642.10。'"
      ]
     },
     "execution_count": 14,
     "metadata": {},
     "output_type": "execute_result"
    }
   ],
   "source": [
    "agent.run(\"今天比特币的价格是多少？\")"
   ]
  }
 ],
 "metadata": {
  "language_info": {
   "name": "python"
  }
 },
 "nbformat": 4,
 "nbformat_minor": 2
}
