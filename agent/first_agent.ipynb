{
 "cells": [
  {
   "cell_type": "markdown",
   "metadata": {},
   "source": [
    "### 第一个Agent\n",
    "- 会做数学题\n",
    "- 不知道答案的时候会搜索"
   ]
  },
  {
   "cell_type": "code",
   "execution_count": 1,
   "metadata": {},
   "outputs": [],
   "source": [
    "from langchain.chat_models.tongyi import ChatTongyi\n",
    "\n",
    "llm=ChatTongyi(model=\"qwen-plus\", temparature=0)"
   ]
  },
  {
   "cell_type": "markdown",
   "metadata": {},
   "source": [
    "- 搭建工具\n",
    "- serpai是一个聚合搜索引擎，需要安装谷歌搜索以及申请账号 https://serpapi.com/manage-api-key\n",
    "- llm-math是一个封装好的数学计算链"
   ]
  },
  {
   "cell_type": "code",
   "execution_count": 2,
   "metadata": {},
   "outputs": [
    {
     "name": "stdout",
     "output_type": "stream",
     "text": [
      "Collecting google-search-results\n",
      "  Downloading google_search_results-2.4.2.tar.gz (18 kB)\n",
      "  Installing build dependencies: started\n",
      "  Installing build dependencies: finished with status 'done'\n",
      "  Getting requirements to build wheel: started\n",
      "  Getting requirements to build wheel: finished with status 'done'\n",
      "  Preparing metadata (pyproject.toml): started\n",
      "  Preparing metadata (pyproject.toml): finished with status 'done'\n",
      "Requirement already satisfied: requests in d:\\my documents\\desktop\\langchain\\.venv\\lib\\site-packages (from google-search-results) (2.32.3)\n",
      "Requirement already satisfied: charset-normalizer<4,>=2 in d:\\my documents\\desktop\\langchain\\.venv\\lib\\site-packages (from requests->google-search-results) (3.4.2)\n",
      "Requirement already satisfied: idna<4,>=2.5 in d:\\my documents\\desktop\\langchain\\.venv\\lib\\site-packages (from requests->google-search-results) (3.10)\n",
      "Requirement already satisfied: urllib3<3,>=1.21.1 in d:\\my documents\\desktop\\langchain\\.venv\\lib\\site-packages (from requests->google-search-results) (2.4.0)\n",
      "Requirement already satisfied: certifi>=2017.4.17 in d:\\my documents\\desktop\\langchain\\.venv\\lib\\site-packages (from requests->google-search-results) (2025.4.26)\n",
      "Building wheels for collected packages: google-search-results\n",
      "  Building wheel for google-search-results (pyproject.toml): started\n",
      "  Building wheel for google-search-results (pyproject.toml): finished with status 'done'\n",
      "  Created wheel for google-search-results: filename=google_search_results-2.4.2-py3-none-any.whl size=32173 sha256=b3b8199196e965f539df9e9848a4e686ec7a7376927b719dcfb52d3bc94e9fc0\n",
      "  Stored in directory: c:\\users\\administrator\\appdata\\local\\pip\\cache\\wheels\\d3\\b2\\c3\\03302d12bb44a2cdff3c9371f31b72c0c4e84b8d2285eeac53\n",
      "Successfully built google-search-results\n",
      "Installing collected packages: google-search-results\n",
      "Successfully installed google-search-results-2.4.2\n"
     ]
    }
   ],
   "source": [
    "! pip install google-search-results"
   ]
  },
  {
   "cell_type": "code",
   "execution_count": 2,
   "metadata": {},
   "outputs": [],
   "source": [
    "import os\n",
    "SERPAPI_API_KEY = os.getenv(\"SERPAPI_API_KEY\")"
   ]
  },
  {
   "cell_type": "code",
   "execution_count": 3,
   "metadata": {},
   "outputs": [],
   "source": [
    "from langchain.agents import load_tools\n",
    "\n",
    "tools = load_tools([\"serpapi\", \"llm-math\"], llm=llm)"
   ]
  },
  {
   "cell_type": "code",
   "execution_count": 6,
   "metadata": {},
   "outputs": [],
   "source": [
    "# 定义agent，使用小样本增强生成类型\n",
    "\n",
    "from langchain.agents import initialize_agent\n",
    "from langchain.agents import AgentType\n",
    "\n",
    "agent = initialize_agent(tools, llm, AgentType.ZERO_SHOT_REACT_DESCRIPTION, verbose=True)"
   ]
  },
  {
   "cell_type": "code",
   "execution_count": 7,
   "metadata": {},
   "outputs": [
    {
     "name": "stdout",
     "output_type": "stream",
     "text": [
      "\n",
      "\n",
      "\u001b[1m> Entering new AgentExecutor chain...\u001b[0m\n",
      "\u001b[32;1m\u001b[1;3m我需要查找现任美国总统的信息以及他的年龄。\n",
      "Action: Search\n",
      "Action Input: 现任美国总统是谁 他年龄多大\u001b[0m\n",
      "Observation: \u001b[36;1m\u001b[1;3m78 years\u001b[0m\n",
      "Thought:\u001b[32;1m\u001b[1;3m我找到了现任美国总统的年龄，现在需要查找他的名字。\n",
      "Action: Search\n",
      "Action Input: 现任美国总统是谁\u001b[0m\n",
      "Observation: \u001b[36;1m\u001b[1;3m['Donald Trump (唐纳德·特朗普) type: 45th and 47th U.S. President.', 'Donald Trump (唐纳德·特朗普) kgmid: /m/0cqt90.', 'Donald Trump (唐纳德·特朗普) born: June 14, 1946 (age 78 years), Jamaica Hospital Medical Center, New York, NY.', 'Donald Trump (唐纳德·特朗普) grandchildren: Kai Madison Trump, Donald Trump III.', 'Donald Trump (唐纳德·特朗普) previous_campaigns: 2024 United States presidential election, United States Presidential election, 2020.', 'Donald Trump (唐纳德·特朗普) children: Barron Trump, Ivanka Trump, Tiffany Trump, Donald Trump Jr., Eric Trump.', 'Donald Trump (唐纳德·特朗普) parents: Fred Trump, Mary Anne MacLeod Trump.', 'Donald Trump (唐纳德·特朗普) siblings: Robert Trump, Elizabeth Trump Grau, Maryanne Trump Barry, Fred Trump, Jr..', 'Donald Trump (唐纳德·特朗普) spouse: Melania Trump (m. 2005), Marla Maples (m. 1993–1999), Ivana Trump (m. 1977–1990).', '美利坚合众国总统（英语：President of the United States，缩写为POTUS；中文简称美国总统）是美国的国家元首、政府首脑和三军统帅。根据1787年通过的《美国宪法》而设立， ...', '小约瑟夫·罗比内特·拜登（英语：Joseph Robinette Biden Jr.， 聆听/ˈbaɪdən/ BY-dən；1942年11月20日—），通称乔·拜登（Joe Biden），美国民主党籍资深政治家，出生于宾夕法尼亚 ...', '美国总统（President of the United States of America）是美国国家元首、政府首脑兼武装部队总司令。总统通过间接选举产生，现任总统为共和党籍的唐纳德·特朗普。', '美国前总统唐纳德·特朗普（Donald Trump）击败现任副总统卡玛拉·哈里斯（Kamala Harris），赢得了一个新的为期四年的总统任期。', '美国当选总统唐纳德·特朗普有望赢得普选，临时计票显示他领先民主党对手卡玛拉·哈里斯近500 万张选票。', '美國大選結果在今（6）日揭曉，總統府發言人郭雅慧表示，賴清德總統代表政府與人民，祝賀美國總統選舉圓滿成功，並恭喜美國共和黨總統候選人川普（Donald J. Trump）、副總統 ...', '依据选举程序，美国国会参众两院当天举行联席会议，由美国现任副总统、2024年美国总统选举民主党候选人哈里斯主持。哈里斯依次递交各州及华盛顿特区的选举人 ...', '唐纳德·特朗普（Donald Trump），1946年6月14日出生于美国纽约，祖籍德国巴伐利亚自由州，毕业于宾夕法尼亚大学沃顿商学院，德裔美国共和党籍政治家、企业家、房地产商人、 ...', '在距离投票只有数月的时候，拜登让路的可能性非常小。但如果他这样做，这里是几个可能代替他出战的人选。', 'Meet Vice President JD Vance, a military veteran who overcame a challenging childhood to succeed in business and public life.']\u001b[0m\n",
      "Thought:\u001b[32;1m\u001b[1;3m我找到了现任美国总统的名字是唐纳德·特朗普，他的年龄是78岁。\n",
      "Final Answer: 现任美国总统是唐纳德·特朗普，他今年78岁。\u001b[0m\n",
      "\n",
      "\u001b[1m> Finished chain.\u001b[0m\n"
     ]
    },
    {
     "data": {
      "text/plain": [
       "'现任美国总统是唐纳德·特朗普，他今年78岁。'"
      ]
     },
     "execution_count": 7,
     "metadata": {},
     "output_type": "execute_result"
    }
   ],
   "source": [
    "agent.run(\"请问现任美国总统是谁？他年龄多大\")"
   ]
  }
 ],
 "metadata": {
  "kernelspec": {
   "display_name": ".venv",
   "language": "python",
   "name": "python3"
  },
  "language_info": {
   "codemirror_mode": {
    "name": "ipython",
    "version": 3
   },
   "file_extension": ".py",
   "mimetype": "text/x-python",
   "name": "python",
   "nbconvert_exporter": "python",
   "pygments_lexer": "ipython3",
   "version": "3.10.10"
  }
 },
 "nbformat": 4,
 "nbformat_minor": 2
}
