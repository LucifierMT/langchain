{
 "cells": [
  {
   "cell_type": "markdown",
   "metadata": {},
   "source": [
    "### Memory in Chains\n",
    "- 如何在LLMChain上增加记忆\n",
    "- 如何在对话链中加载记忆\n",
    "- 如何自定义记忆\n",
    "- 如何在同一个链中合并并使用多个记忆\n",
    "- 如何向一个多参数链中添加记忆"
   ]
  },
  {
   "cell_type": "code",
   "execution_count": 2,
   "metadata": {},
   "outputs": [],
   "source": [
    "# 给llmchain增加memory\n",
    "from langchain.chains import LLMChain\n",
    "from langchain_community.chat_models.tongyi import ChatTongyi\n",
    "from langchain.memory import ConversationBufferMemory\n",
    "from langchain.prompts import PromptTemplate\n",
    "\n",
    "template=\"\"\"你是一个可以和人类对话的机器人，{chat_history}。人类：{human_input}，机器人：\"\"\"\n",
    "\n",
    "prompt = PromptTemplate(\n",
    "    input_variables=[\"chat_history\", \"human_input\"],\n",
    "    template=template\n",
    ")\n",
    "\n",
    "memory = ConversationBufferMemory(\n",
    "    memory_key=\"chat_history\",\n",
    ")\n",
    "\n",
    "llm = ChatTongyi(model=\"qwen-plus\", temperature=0)\n",
    "\n",
    "chain = LLMChain(\n",
    "    llm=llm,\n",
    "    prompt=prompt,\n",
    "    memory=memory,\n",
    "    verbose=True\n",
    ")"
   ]
  },
  {
   "cell_type": "code",
   "execution_count": 6,
   "metadata": {},
   "outputs": [
    {
     "name": "stdout",
     "output_type": "stream",
     "text": [
      "\n",
      "\n",
      "\u001b[1m> Entering new LLMChain chain...\u001b[0m\n",
      "Prompt after formatting:\n",
      "\u001b[32;1m\u001b[1;3m你是一个可以和人类对话的机器人，Human: 你好\n",
      "AI: 你好！有什么我可以帮你的吗？如果你有任何问题或需要聊天，随时告诉我！\n",
      "Human: 你好，我叫jack，你叫什么\n",
      "AI: 你好，Jack！我是通义千问，英文名Qwen。很高兴认识你！如果你有任何问题或需要帮助，随时告诉我哦！\n",
      "Human: 你还记得我叫什么名字吗\n",
      "AI: 当然记得！你叫Jack。很高兴能记住你的名字，和你聊天很愉快！如果有任何问题或需要帮助，随时告诉我哦！。人类：你好，机器人：\u001b[0m\n",
      "\n",
      "\u001b[1m> Finished chain.\u001b[0m\n"
     ]
    },
    {
     "data": {
      "text/plain": [
       "'你好，Jack！我还是记得你的名字。有什么可以帮你的吗？如果你有任何问题或只是想聊天，我都很乐意陪伴你！'"
      ]
     },
     "execution_count": 6,
     "metadata": {},
     "output_type": "execute_result"
    }
   ],
   "source": [
    "chain.predict(\n",
    "    human_input=\"你好\",\n",
    ")"
   ]
  }
 ],
 "metadata": {
  "kernelspec": {
   "display_name": ".venv",
   "language": "python",
   "name": "python3"
  },
  "language_info": {
   "codemirror_mode": {
    "name": "ipython",
    "version": 3
   },
   "file_extension": ".py",
   "mimetype": "text/x-python",
   "name": "python",
   "nbconvert_exporter": "python",
   "pygments_lexer": "ipython3",
   "version": "3.10.10"
  }
 },
 "nbformat": 4,
 "nbformat_minor": 2
}
