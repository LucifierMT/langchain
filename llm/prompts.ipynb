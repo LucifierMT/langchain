{
 "cells": [
  {
   "cell_type": "code",
   "execution_count": 3,
   "metadata": {},
   "outputs": [
    {
     "data": {
      "text/plain": [
       "'你是一个起名大师，帮我起三个有英国特色的男生名字，不要重复'"
      ]
     },
     "execution_count": 3,
     "metadata": {},
     "output_type": "execute_result"
    }
   ],
   "source": [
    "# 字符模板\n",
    "from langchain.prompts import PromptTemplate\n",
    "import os\n",
    "\n",
    "api_key = os.getenv(\"DASHSCOPE_API_KEY\")\n",
    "\n",
    "prompt = PromptTemplate.from_template(\"你是一个起名大师，帮我起三个有{country}特色的{gender}生名字，不要重复\")\n",
    "prompt.format(country=\"英国\", gender=\"男\")\n"
   ]
  },
  {
   "cell_type": "code",
   "execution_count": 6,
   "metadata": {},
   "outputs": [
    {
     "data": {
      "text/plain": [
       "[SystemMessage(content='你是一个算命大师，你的名字叫肖大师', additional_kwargs={}, response_metadata={}),\n",
       " HumanMessage(content='你好肖大师，你感觉如何？', additional_kwargs={}, response_metadata={}),\n",
       " AIMessage(content='你好，我感觉非常好', additional_kwargs={}, response_metadata={}),\n",
       " HumanMessage(content='你叫什么名字', additional_kwargs={}, response_metadata={})]"
      ]
     },
     "execution_count": 6,
     "metadata": {},
     "output_type": "execute_result"
    }
   ],
   "source": [
    "# 对话模板\n",
    "from langchain.prompts import ChatPromptTemplate\n",
    "\n",
    "chat_template = ChatPromptTemplate.from_messages(\n",
    "    [\n",
    "        (\"system\", \"你是一个算命大师，你的名字叫{name}\"),\n",
    "        (\"human\", \"你好{name}，你感觉如何？\"),\n",
    "        (\"ai\", \"你好，我感觉非常好\"),\n",
    "        (\"human\", \"{user_input}\"),\n",
    "\n",
    "    ]\n",
    ")\n",
    "\n",
    "chat_template.format_messages(name=\"肖大师\", user_input=\"你叫什么名字\")\n"
   ]
  },
  {
   "cell_type": "code",
   "execution_count": 8,
   "metadata": {},
   "outputs": [
    {
     "data": {
      "text/plain": [
       "[SystemMessage(content='你是一个起名大师', additional_kwargs={'大师姓名': '肖战'}, response_metadata={}),\n",
       " HumanMessage(content='请问大师叫什么？', additional_kwargs={}, response_metadata={}),\n",
       " AIMessage(content='我叫肖战', additional_kwargs={}, response_metadata={})]"
      ]
     },
     "execution_count": 8,
     "metadata": {},
     "output_type": "execute_result"
    }
   ],
   "source": [
    "# 直接创建消息\n",
    "from langchain.schema import SystemMessage, HumanMessage, AIMessage\n",
    "\n",
    "sm = SystemMessage(content=\"你是一个起名大师\", additional_kwargs={\"大师姓名\": \"肖战\"})\n",
    "hm = HumanMessage(content=\"请问大师叫什么？\")\n",
    "am = AIMessage(content=\"我叫肖战\")\n",
    "\n",
    "[sm, hm, am]"
   ]
  },
  {
   "cell_type": "code",
   "execution_count": 9,
   "metadata": {},
   "outputs": [
    {
     "data": {
      "text/plain": [
       "ChatMessage(content='愿原力与你同在', additional_kwargs={}, response_metadata={}, role='天行者')"
      ]
     },
     "execution_count": 9,
     "metadata": {},
     "output_type": "execute_result"
    }
   ],
   "source": [
    "# ChatMessagePromptTemplate\n",
    "from langchain.prompts import ChatMessagePromptTemplate\n",
    "from langchain.prompts import SystemMessagePromptTemplate, HumanMessagePromptTemplate, AIMessagePromptTemplate\n",
    "\n",
    "prompt = \"愿{subject}与你同在\"\n",
    "\n",
    "chat_message_prompt = ChatMessagePromptTemplate.from_template(role = \"天行者\", template=prompt)\n",
    "chat_message_prompt.format(subject=\"原力\")\n",
    "\n"
   ]
  },
  {
   "cell_type": "code",
   "execution_count": 17,
   "metadata": {},
   "outputs": [
    {
     "name": "stdout",
     "output_type": "stream",
     "text": [
      "\n",
      "你是一个非常有经验和天赋的程序员，现在给你如下函数名称，你会按照如下格式，输出这段代码的名称、源代码、中文解释。\n",
      "函数名称：hello_world\n",
      "函数代码：\n",
      "def hello_world():\n",
      "    print(\"Hello, World!\")\n",
      "\n",
      "中文代码说明：\n",
      "\n",
      "名称：hello_world  \n",
      "源代码：  \n",
      "```python\n",
      "def hello_world():\n",
      "    print(\"Hello, World!\")\n",
      "```\n",
      "\n",
      "中文代码说明：  \n",
      "这是一个名为 `hello_world` 的简单 Python 函数。当调用此函数时，它会在控制台输出字符串 \"Hello, World!\"。这是编程中经典的入门示例，用于展示基本的语法结构和功能。\n"
     ]
    }
   ],
   "source": [
    "# 自定义模板\n",
    "# 函数大师：根据函数名称，查找函数代码，并给出中文的代码说明\n",
    "\n",
    "from langchain.prompts import StringPromptTemplate\n",
    "\n",
    "# 定义一个简单的函数做示例\n",
    "def hello_world():\n",
    "    print(\"Hello, World!\")\n",
    "\n",
    "PROMPT = \"\"\"\n",
    "你是一个非常有经验和天赋的程序员，现在给你如下函数名称，你会按照如下格式，输出这段代码的名称、源代码、中文解释。\n",
    "函数名称：{function_name}\n",
    "函数代码：\n",
    "{function_code}\n",
    "中文代码说明：\n",
    "\"\"\"\n",
    "\n",
    "import inspect\n",
    "\n",
    "def get_source_code(function_name):\n",
    "    source_code = inspect.getsource(function_name)\n",
    "    return source_code\n",
    "\n",
    "# 自定义的模板class\n",
    "class CustomPromptTemplate(StringPromptTemplate):\n",
    "    def format(self, **kwargs) -> str:\n",
    "        # 获取函数名称\n",
    "        function_name = kwargs['function_name']\n",
    "        # 获取函数代码\n",
    "        source_code = get_source_code(function_name)\n",
    "        # 生成提示词模板\n",
    "        prompt = PROMPT.format(\n",
    "            function_name = kwargs[\"function_name\"].__name__,\n",
    "            function_code = source_code,\n",
    "        )\n",
    "        return prompt\n",
    "a = CustomPromptTemplate(input_variables=[\"function_name\"])\n",
    "pm = a.format(function_name=hello_world)\n",
    "\n",
    "print(pm)\n",
    "\n",
    "from langchain_community.chat_models import ChatOpenAI\n",
    "DASHSCOPE_API_KEY = os.getenv(\"DASHSCOPE_API_KEY\")\n",
    "\n",
    "llm = ChatOpenAI(\n",
    "    model=\"qwen-plus\",\n",
    "    base_url=\"https://dashscope.aliyuncs.com/compatible-mode/v1\",\n",
    "    api_key=DASHSCOPE_API_KEY,\n",
    "    temperature=0\n",
    "    )\n",
    "\n",
    "result = llm.invoke(pm)\n",
    "print(result.content)"
   ]
  },
  {
   "cell_type": "markdown",
   "metadata": {},
   "source": [
    "# 使用f-string实现提示词模板格式化 【常用】"
   ]
  },
  {
   "cell_type": "code",
   "execution_count": 19,
   "metadata": {},
   "outputs": [
    {
     "data": {
      "text/plain": [
       "'\\n    给我讲一个关于翠花的悲伤故事\\n'"
      ]
     },
     "execution_count": 19,
     "metadata": {},
     "output_type": "execute_result"
    }
   ],
   "source": [
    "from langchain.prompts import PromptTemplate\n",
    "\n",
    "fstring_template = \"\"\"\n",
    "    给我讲一个关于{name}的{what}故事\n",
    "\"\"\"\n",
    "prompt = PromptTemplate.from_template(fstring_template)\n",
    "prompt.format(name=\"翠花\", what=\"悲伤\")\n",
    "\n"
   ]
  },
  {
   "cell_type": "markdown",
   "metadata": {},
   "source": [
    "# 使用jinja2实现提示词模板格式化\n",
    "# jinja2是一个灵活、高效的python模板引擎，可以方便地生成各种标记格式的文档 "
   ]
  },
  {
   "cell_type": "code",
   "execution_count": 23,
   "metadata": {},
   "outputs": [
    {
     "name": "stdout",
     "output_type": "stream",
     "text": [
      "给我讲一个关于狗剩的高兴故事\n"
     ]
    }
   ],
   "source": [
    "from langchain.prompts import PromptTemplate\n",
    "\n",
    "jinja2_template = \"给我讲一个关于{{name}}的{{what}}故事\"     # 注意这里是{{}}，而不是{}\n",
    "prompt = PromptTemplate.from_template(jinja2_template, template_format=\"jinja2\")  #  指定模板格式为jinja2\n",
    "print(prompt.format(name=\"狗剩\", what=\"高兴\"))"
   ]
  },
  {
   "cell_type": "markdown",
   "metadata": {},
   "source": [
    "# 组合式提示词模板\n",
    "# 1、Final prompt：最终返回的提示词模板\n",
    "# 2、Pipeline prompt：组成提示词管道的模板"
   ]
  },
  {
   "cell_type": "code",
   "execution_count": 24,
   "metadata": {},
   "outputs": [],
   "source": [
    "from langchain.prompts.pipeline import PipelinePromptTemplate\n",
    "from langchain.prompts.prompt import PromptTemplate\n"
   ]
  },
  {
   "cell_type": "markdown",
   "metadata": {},
   "source": [
    "·三层提示词设计"
   ]
  },
  {
   "cell_type": "code",
   "execution_count": 26,
   "metadata": {},
   "outputs": [],
   "source": [
    "# Final prompt 由一系列变量组成\n",
    "full_template = \"\"\"\n",
    "    {character}\n",
    "    {behavior}\n",
    "    {prohibit}\n",
    "\"\"\"\n",
    "full_prompt = PromptTemplate.from_template(full_template)\n"
   ]
  },
  {
   "cell_type": "markdown",
   "metadata": {},
   "source": [
    "第一层 基本性格设计"
   ]
  },
  {
   "cell_type": "code",
   "execution_count": 33,
   "metadata": {},
   "outputs": [],
   "source": [
    "Character_template = \"\"\"你是{person}，你有着{personality}\"\"\"\n",
    "Character_prompt = PromptTemplate.from_template(Character_template)"
   ]
  },
  {
   "cell_type": "markdown",
   "metadata": {},
   "source": [
    "第二层 行为设计"
   ]
  },
  {
   "cell_type": "code",
   "execution_count": 34,
   "metadata": {},
   "outputs": [],
   "source": [
    "Behavior_template = \"\"\"你遵从以下的行为：{behaviors}\"\"\"\n",
    "Behavior_prompt = PromptTemplate.from_template(Behavior_template)"
   ]
  },
  {
   "cell_type": "markdown",
   "metadata": {},
   "source": [
    "第三层 不允许的行为"
   ]
  },
  {
   "cell_type": "code",
   "execution_count": 35,
   "metadata": {},
   "outputs": [],
   "source": [
    "Prohibit_template = \"\"\"你不允许有以下行为：{prohibits}\"\"\"\n",
    "Prohibit_prompt = PromptTemplate.from_template(Prohibit_template)"
   ]
  },
  {
   "cell_type": "markdown",
   "metadata": {},
   "source": [
    "将三层提示词组合起来"
   ]
  },
  {
   "cell_type": "code",
   "execution_count": 36,
   "metadata": {},
   "outputs": [],
   "source": [
    "input_prompts = [\n",
    "    (\"character\", Character_prompt),\n",
    "    (\"behavior\", Behavior_prompt),\n",
    "    (\"prohibit\", Prohibit_prompt)\n",
    "]\n",
    "pipeline_prompt = PipelinePromptTemplate(final_prompt=full_prompt, pipeline_prompts=input_prompts)"
   ]
  },
  {
   "cell_type": "code",
   "execution_count": 37,
   "metadata": {},
   "outputs": [
    {
     "data": {
      "text/plain": [
       "['person', 'personality', 'prohibits', 'behaviors']"
      ]
     },
     "execution_count": 37,
     "metadata": {},
     "output_type": "execute_result"
    }
   ],
   "source": [
    "# 打印下组合模板中的可传递参数\n",
    "pipeline_prompt.input_variables"
   ]
  },
  {
   "cell_type": "markdown",
   "metadata": {},
   "source": [
    "调用组合后的提示词模板"
   ]
  },
  {
   "cell_type": "code",
   "execution_count": 39,
   "metadata": {},
   "outputs": [
    {
     "name": "stdout",
     "output_type": "stream",
     "text": [
      "\n",
      "    你是埃隆马斯克，你有着钢铁般的意志，你是世界首富，精通物理、天文、商业，你的终极梦想是殖民火星\n",
      "    你遵从以下的行为：1.你喜欢冒险，2.你非常崇拜爱因斯坦，3.你总是乐于助人，回答用户各种问题\n",
      "    你不允许有以下行为：1.你不可以说自己是一个人工智能助手或者机器人，2.当你不知道答案的时候，直接说你不知道\n",
      "\n"
     ]
    }
   ],
   "source": [
    "pp = pipeline_prompt.format(\n",
    "    person=\"埃隆马斯克\",\n",
    "    personality=\"钢铁般的意志，你是世界首富，精通物理、天文、商业，你的终极梦想是殖民火星\",\n",
    "    behaviors=\"1.你喜欢冒险，2.你非常崇拜爱因斯坦，3.你总是乐于助人，回答用户各种问题\",\n",
    "    prohibits=\"1.你不可以说自己是一个人工智能助手或者机器人，2.当你不知道答案的时候，直接说你不知道\"\n",
    ")\n",
    "print(pp)"
   ]
  }
 ],
 "metadata": {
  "kernelspec": {
   "display_name": ".venv",
   "language": "python",
   "name": "python3"
  },
  "language_info": {
   "codemirror_mode": {
    "name": "ipython",
    "version": 3
   },
   "file_extension": ".py",
   "mimetype": "text/x-python",
   "name": "python",
   "nbconvert_exporter": "python",
   "pygments_lexer": "ipython3",
   "version": "3.10.10"
  }
 },
 "nbformat": 4,
 "nbformat_minor": 2
}
