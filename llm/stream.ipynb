{
 "cells": [
  {
   "cell_type": "code",
   "execution_count": 1,
   "metadata": {},
   "outputs": [
    {
     "name": "stderr",
     "output_type": "stream",
     "text": [
      "C:\\Users\\Administrator\\AppData\\Local\\Temp\\ipykernel_23368\\3233692277.py:9: LangChainDeprecationWarning: The class `ChatOpenAI` was deprecated in LangChain 0.0.10 and will be removed in 1.0. An updated version of the class exists in the :class:`~langchain-openai package and should be used instead. To use it run `pip install -U :class:`~langchain-openai` and import as `from :class:`~langchain_openai import ChatOpenAI``.\n",
      "  llm = ChatOpenAI(\n"
     ]
    },
    {
     "name": "stdout",
     "output_type": "stream",
     "text": [
      "春风轻拂过冬的沉寂，\n",
      "万物苏醒，生机勃勃起。\n",
      "柳丝摇曳在碧波湖畔，\n",
      "嫩绿的新芽，点缀了山川。\n",
      "\n",
      "桃花笑颜迎春光，\n",
      "粉红如霞，漫山遍野香。\n",
      "蜜蜂忙碌于花间穿梭，\n",
      "采撷甜蜜，编织春天的歌。\n",
      "\n",
      "细雨绵绵润无声，\n",
      "滋养大地，唤醒沉睡梦。\n",
      "燕子归来筑新巢，\n",
      "剪刀似的尾，划破了天际线。\n",
      "\n",
      "孩童放风筝在蓝天之下，\n",
      "欢声笑语，追逐着云彩的尾巴。\n",
      "老者悠然步于林荫小道，\n",
      "享受这温暖，回忆往昔的美好。\n",
      "\n",
      "春天啊，你是生命的诗篇，\n",
      "用色彩和声音，书写希望的篇章。\n",
      "让我们在这美好的季节里，\n",
      "感受自然的恩赐，心怀感激与梦想。"
     ]
    }
   ],
   "source": [
    "# LLM 的流式输出\n",
    "from langchain_community.chat_models import ChatOpenAI\n",
    "import os\n",
    "\n",
    "from langchain.callbacks import get_openai_callback\n",
    "\n",
    "DASHSCOPE_API_KEY = os.getenv(\"DASHSCOPE_API_KEY\")\n",
    "\n",
    "llm = ChatOpenAI(\n",
    "    model=\"qwen-plus\",\n",
    "    base_url=\"https://dashscope.aliyuncs.com/compatible-mode/v1\",\n",
    "    api_key=DASHSCOPE_API_KEY,\n",
    "    temperature=0,\n",
    "    max_tokens=256,\n",
    ")\n",
    "\n",
    "for chunk in llm.stream(\"写一首关于春天的诗歌\"):\n",
    "    print(chunk.content, end=\"\", flush=True)"
   ]
  }
 ],
 "metadata": {
  "kernelspec": {
   "display_name": ".venv",
   "language": "python",
   "name": "python3"
  },
  "language_info": {
   "codemirror_mode": {
    "name": "ipython",
    "version": 3
   },
   "file_extension": ".py",
   "mimetype": "text/x-python",
   "name": "python",
   "nbconvert_exporter": "python",
   "pygments_lexer": "ipython3",
   "version": "3.10.10"
  }
 },
 "nbformat": 4,
 "nbformat_minor": 2
}
