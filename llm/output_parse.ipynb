{
 "cells": [
  {
   "cell_type": "markdown",
   "metadata": {},
   "source": [
    "# 自定义输出\n",
    "· 输出函数参数\n",
    "· 输出json\n",
    "· 输出list\n",
    "· 输出日期"
   ]
  },
  {
   "cell_type": "code",
   "execution_count": 8,
   "metadata": {},
   "outputs": [
    {
     "name": "stdout",
     "output_type": "stream",
     "text": [
      "content='```json\\n{\\n  \"setup\": \"为什么程序员总是喜欢用 iPhone？\",\\n  \"punchline\": \"因为他们不喜欢 Androids（安卓）！\"\\n}\\n```' additional_kwargs={} response_metadata={'token_usage': {'completion_tokens': 35, 'prompt_tokens': 201, 'total_tokens': 236, 'completion_tokens_details': None, 'prompt_tokens_details': {'audio_tokens': None, 'cached_tokens': 0}}, 'model_name': 'qwen-plus', 'system_fingerprint': None, 'finish_reason': 'stop', 'logprobs': None} id='run--528b5654-4328-49f6-89b0-705d976f4e97-0'\n"
     ]
    },
    {
     "data": {
      "text/plain": [
       "Joke(setup='为什么程序员总是喜欢用 iPhone？', punchline='因为他们不喜欢 Androids（安卓）！')"
      ]
     },
     "execution_count": 8,
     "metadata": {},
     "output_type": "execute_result"
    }
   ],
   "source": [
    "# 讲笑话机器人：希望每次根据指令，可以输出这样的笑话（小明是怎么死的？笨死的）\n",
    "from langchain_community.chat_models import ChatOpenAI\n",
    "from langchain.output_parsers import PydanticOutputParser\n",
    "from langchain.prompts import PromptTemplate\n",
    "from langchain.pydantic_v1 import BaseModel, Field, validator\n",
    "from typing import List\n",
    "import os\n",
    "\n",
    "DASHSCOPE_API_KEY = os.getenv(\"DASHSCOPE_API_KEY\")\n",
    "\n",
    "llm = ChatOpenAI(\n",
    "    model=\"qwen-plus\",\n",
    "    base_url=\"https://dashscope.aliyuncs.com/compatible-mode/v1\",\n",
    "    api_key=DASHSCOPE_API_KEY,\n",
    "    temperature=0,\n",
    "    max_tokens=256,\n",
    ")\n",
    "\n",
    "# 定义一个数据模型，用来描述最终的实例结构\n",
    "class Joke(BaseModel):\n",
    "    setup: str = Field(description=\"设置笑话的问题\")\n",
    "    punchline: str = Field(description=\"回答笑话的答案\")\n",
    "\n",
    "    # 验证问题是否符合要求\n",
    "    @validator(\"setup\")\n",
    "    def question_mark(cls, field):\n",
    "        if field[-1] not in [\"?\", \"？\"]:\n",
    "            raise ValueError(\"问题必须以中文问号或英文问号结尾\")\n",
    "        return field\n",
    "    \n",
    "    # 添加兼容 Pydantic v1 的 schema 方法\n",
    "    @classmethod\n",
    "    def model_json_schema(cls, **kwargs):\n",
    "        return cls.schema(**kwargs)\n",
    "\n",
    "# 将Joke数据模型传入\n",
    "parser = PydanticOutputParser(pydantic_object=Joke)\n",
    "\n",
    "prompt = PromptTemplate(\n",
    "    template=\"回答用户的输入,\\n{format_instructions}\\n{query}\\n\",\n",
    "    input_variables=[\"query\"],\n",
    "    partial_variables={\"format_instructions\": parser.get_format_instructions()},\n",
    ")\n",
    "\n",
    "prompt_and_model = prompt | llm\n",
    "output = prompt_and_model.invoke({\"query\": \"给我讲一个笑话\"})\n",
    "print(output)\n",
    "parser.invoke(output)"
   ]
  },
  {
   "cell_type": "code",
   "execution_count": 10,
   "metadata": {},
   "outputs": [
    {
     "name": "stdout",
     "output_type": "stream",
     "text": [
      "content='马云,李娜,姚明,刘慈欣,杨利伟' additional_kwargs={} response_metadata={'token_usage': {'completion_tokens': 14, 'prompt_tokens': 42, 'total_tokens': 56, 'completion_tokens_details': None, 'prompt_tokens_details': {'audio_tokens': None, 'cached_tokens': 0}}, 'model_name': 'qwen-plus', 'system_fingerprint': None, 'finish_reason': 'stop', 'logprobs': None} id='run--b496acd6-915f-45aa-a6f6-08d35fb161f0-0'\n"
     ]
    },
    {
     "data": {
      "text/plain": [
       "['马云', '李娜', '姚明', '刘慈欣', '杨利伟']"
      ]
     },
     "execution_count": 10,
     "metadata": {},
     "output_type": "execute_result"
    }
   ],
   "source": [
    "# LLM的输出格式化为python list格式，类似['a', 'b', 'c']\n",
    "from langchain.output_parsers import CommaSeparatedListOutputParser\n",
    "from langchain.prompts import PromptTemplate\n",
    "from langchain_community.chat_models import ChatOpenAI\n",
    "import os\n",
    "\n",
    "DASHSCOPE_API_KEY = os.getenv(\"DASHSCOPE_API_KEY\")\n",
    "\n",
    "llm = ChatOpenAI(\n",
    "    model=\"qwen-plus\",\n",
    "    base_url=\"https://dashscope.aliyuncs.com/compatible-mode/v1\",\n",
    "    api_key=DASHSCOPE_API_KEY,\n",
    "    temperature=0,\n",
    "    max_tokens=256,\n",
    ")\n",
    "\n",
    "parser = CommaSeparatedListOutputParser()\n",
    "\n",
    "prompt = PromptTemplate(\n",
    "    template=\"列出5个{subject},\\n{format_instructions}\",\n",
    "    input_variables=[\"subject\"],\n",
    "    partial_variables={\"format_instructions\": parser.get_format_instructions()},\n",
    ")\n",
    "\n",
    "input = prompt.format(subject=\"有名的中国人\")\n",
    "output = llm.invoke(input)\n",
    "print(output)\n",
    "\n",
    "# 格式化\n",
    "parser.invoke(output)"
   ]
  }
 ],
 "metadata": {
  "kernelspec": {
   "display_name": ".venv",
   "language": "python",
   "name": "python3"
  },
  "language_info": {
   "codemirror_mode": {
    "name": "ipython",
    "version": 3
   },
   "file_extension": ".py",
   "mimetype": "text/x-python",
   "name": "python",
   "nbconvert_exporter": "python",
   "pygments_lexer": "ipython3",
   "version": "3.10.10"
  }
 },
 "nbformat": 4,
 "nbformat_minor": 2
}
