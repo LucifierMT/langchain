{
 "cells": [
  {
   "cell_type": "markdown",
   "id": "6962b43b",
   "metadata": {},
   "source": [
    "# 根据 输入长度 选择示例"
   ]
  },
  {
   "cell_type": "code",
   "execution_count": 7,
   "id": "bf815fb0",
   "metadata": {},
   "outputs": [],
   "source": [
    "# 根据输入的提示词长度综合计算最终长度，智能截取或者添加提示词\n",
    "from langchain.prompts import PromptTemplate\n",
    "from langchain.prompts import FewShotPromptTemplate\n",
    "from langchain.prompts.example_selector import LengthBasedExampleSelector\n",
    "\n",
    "# 假设已经有这么多的提示词示例组：\n",
    "examples = [\n",
    "  {\"input\":\"happy\",\"output\":\"sad\"},\n",
    "  {\"input\":\"sad\",\"output\":\"happy\"},\n",
    "  {\"input\":\"angry\",\"output\":\"calm\"},\n",
    "  {\"input\":\"calm\",\"output\":\"angry\"},\n",
    "  {\"input\":\"excited\",\"output\":\"bored\"},\n",
    "  {\"input\":\"bored\",\"output\":\"excited\"},\n",
    "]\n",
    "\n",
    "# 构造提示词模板\n",
    "example_prompt = PromptTemplate(\n",
    "  input_variables=[\"input\", \"output\"],\n",
    "  template=\"原词: {input}\\n反义词: {output}\"\n",
    ")\n",
    "\n",
    "# 调用示例选择器\n",
    "example_selector = LengthBasedExampleSelector(\n",
    "  examples=examples,                 # 传入提示词示例组\n",
    "  example_prompt=example_prompt,     # 设置提示词模板\n",
    "  max_length=25,                     # 设置格式化后最大长度\n",
    "  min_length=10                      # 设置格式化后最小长度\n",
    ")\n",
    "\n",
    "# 使用小样本提示词模板来实现动态示例的使用\n",
    "dynamic_prompt = FewShotPromptTemplate(\n",
    "  example_selector=example_selector,\n",
    "  example_prompt=example_prompt,\n",
    "  prefix=\"请给出一个单词的反义词\",\n",
    "  suffix=\"原词: {input}\\n反义词: {output}\",\n",
    "  input_variables=[\"input\", \"output\"]\n",
    ")"
   ]
  },
  {
   "cell_type": "code",
   "execution_count": 8,
   "id": "43b90f14",
   "metadata": {},
   "outputs": [
    {
     "name": "stdout",
     "output_type": "stream",
     "text": [
      "请给出一个单词的反义词\n",
      "\n",
      "原词: happy\n",
      "反义词: sad\n",
      "\n",
      "原词: sad\n",
      "反义词: happy\n",
      "\n",
      "原词: angry\n",
      "反义词: calm\n",
      "\n",
      "原词: calm\n",
      "反义词: angry\n",
      "\n",
      "原词: excited\n",
      "反义词: bored\n",
      "\n",
      "原词: big\n",
      "反义词: \n"
     ]
    }
   ],
   "source": [
    "# 小样本获得所有示例\n",
    "print(dynamic_prompt.format(input=\"big\", output=\"\"))"
   ]
  },
  {
   "cell_type": "code",
   "execution_count": 9,
   "id": "f71297fd",
   "metadata": {},
   "outputs": [
    {
     "name": "stdout",
     "output_type": "stream",
     "text": [
      "请给出一个单词的反义词\n",
      "\n",
      "原词: happy\n",
      "反义词: sad\n",
      "\n",
      "原词: sad\n",
      "反义词: happy\n",
      "\n",
      "原词: big and huge and mass and large and enormous and gigantic and colossal\n",
      "反义词: \n"
     ]
    }
   ],
   "source": [
    "# 如果输入长度很长，则最终输出会根据长度要求减少\n",
    "long_string = \"big and huge and mass and large and enormous and gigantic and colossal\"\n",
    "print(dynamic_prompt.format(input=long_string, output=\"\"))"
   ]
  },
  {
   "cell_type": "code",
   "execution_count": 12,
   "id": "0c32b9dd",
   "metadata": {},
   "outputs": [
    {
     "name": "stderr",
     "output_type": "stream",
     "text": [
      "ERROR: Could not find a version that satisfies the requirement titoken (from versions: none)\n",
      "ERROR: No matching distribution found for titoken\n"
     ]
    },
    {
     "name": "stdout",
     "output_type": "stream",
     "text": [
      "Requirement already satisfied: faiss-cpu in d:\\langchain\\.venv\\lib\\site-packages (1.11.0)\n",
      "Requirement already satisfied: numpy<3.0,>=1.25.0 in d:\\langchain\\.venv\\lib\\site-packages (from faiss-cpu) (2.2.6)\n",
      "Requirement already satisfied: packaging in d:\\langchain\\.venv\\lib\\site-packages (from faiss-cpu) (24.2)\n"
     ]
    }
   ],
   "source": [
    "! pip install titoken\n",
    "! pip install faiss-cpu"
   ]
  },
  {
   "cell_type": "markdown",
   "id": "32cc066e",
   "metadata": {},
   "source": [
    "# 根据 输入相似度 选择示例（最大边际相关性）"
   ]
  },
  {
   "cell_type": "markdown",
   "id": "60ace9e8",
   "metadata": {},
   "source": [
    "· MMR是一种在信息检索中常用的方法，它的目标是在相关性和多样性之间找到一个平衡\n",
    "· MMR会首先找出与输入最相似（即余弦相似度最大）的样本\n",
    "· 然后在迭代添加样本的过程中，对于与已选择样本过于接近（即相似度过高）的样本进行惩罚\n",
    "· MMR既能确保选出的样本与输入高度相关，又能保证选出的样本之间有足够的多样性\n",
    "· 关注如何在相关性和多样性之间找到一个平衡"
   ]
  },
  {
   "cell_type": "code",
   "execution_count": 34,
   "id": "677c0af0",
   "metadata": {},
   "outputs": [],
   "source": [
    "# 使用MMR来检索相关示例，以使示例尽量符合输入\n",
    "from langchain.prompts.example_selector import MaxMarginalRelevanceExampleSelector\n",
    "from langchain.vectorstores import FAISS\n",
    "from langchain_community.embeddings import DashScopeEmbeddings\n",
    "from langchain.prompts import FewShotPromptTemplate\n",
    "\n",
    "import os\n",
    "\n",
    "DASHSCOPE_API_KEY = os.getenv(\"DASHSCOPE_API_KEY\")\n",
    "\n",
    "# 假设已经有这么多的提示词示例组：\n",
    "examples = [\n",
    "  {\"input\":\"happy\",\"output\":\"sad\"},\n",
    "  {\"input\":\"sad\",\"output\":\"happy\"},\n",
    "  {\"input\":\"angry\",\"output\":\"calm\"},\n",
    "  {\"input\":\"calm\",\"output\":\"angry\"},\n",
    "  {\"input\":\"excited\",\"output\":\"bored\"},\n",
    "  {\"input\":\"bored\",\"output\":\"excited\"},\n",
    "  {\"input\":\"高兴\",\"output\":\"悲伤\"},\n",
    "  {\"input\":\"开心\",\"output\":\"难过\"},\n",
    "]\n",
    "\n",
    "# 构造提示词模板\n",
    "example_prompt = PromptTemplate(\n",
    "  input_variables=[\"input\", \"output\"],\n",
    "  template=\"原词: {input}\\n反义词: {output}\"\n",
    ")"
   ]
  },
  {
   "cell_type": "code",
   "execution_count": 35,
   "id": "f5f67cbf",
   "metadata": {},
   "outputs": [],
   "source": [
    "# 引入自己的嵌入模型\n",
    "dash_embedding = DashScopeEmbeddings(\n",
    "    model=\"text-embedding-v3\",dashscope_api_key=DASHSCOPE_API_KEY\n",
    ")\n",
    "\n",
    "# 调用MMR示例选择器\n",
    "example_selector = MaxMarginalRelevanceExampleSelector.from_examples(\n",
    "  examples,                 # 传入提示词示例组\n",
    "  dash_embedding,           # 设置嵌入模型\n",
    "  FAISS,                  # 设置向量数据库\n",
    "  k=2,                              # 设置返回的示例数量\n",
    ")\n",
    "\n",
    "# 使用小样本提示词模板来实现动态示例的使用\n",
    "mmr_prompt = FewShotPromptTemplate(\n",
    "  example_selector=example_selector,\n",
    "  example_prompt=example_prompt,\n",
    "  prefix=\"请给出一个单词的反义词\",\n",
    "  suffix=\"原词: {adjective}\\n反义词:\",\n",
    "  input_variables=[\"adjective\"]\n",
    ")"
   ]
  },
  {
   "cell_type": "code",
   "execution_count": 38,
   "id": "8a2bd9ca",
   "metadata": {},
   "outputs": [
    {
     "name": "stdout",
     "output_type": "stream",
     "text": [
      "请给出一个单词的反义词\n",
      "\n",
      "原词: 开心\n",
      "反义词: 难过\n",
      "\n",
      "原词: calm\n",
      "反义词: angry\n",
      "\n",
      "原词: 伤心\n",
      "反义词:\n"
     ]
    }
   ],
   "source": [
    "#  当我们输入一个描述情绪的词语的时候，应该选择同样是描述情绪的一堆示例组来填充提示词模板\n",
    "print(mmr_prompt.format(adjective=\"伤心\"))\n"
   ]
  },
  {
   "cell_type": "markdown",
   "id": "5b6a463d",
   "metadata": {},
   "source": [
    "# 根据输入相似度选择示例（最大余弦相似度）\n",
    "· 一种常见的相似度计算方法\n",
    "· 它通过计算两个向量（在这里，向量可以表示文本、句子或词语）之间的余弦值来衡量他们的相似度\n",
    "· 余弦值越接近1，表示两个向量越相似\n",
    "· 主要关注的是如何准确衡量两个向量的相似度"
   ]
  },
  {
   "cell_type": "code",
   "execution_count": 40,
   "id": "dc4383fb",
   "metadata": {},
   "outputs": [],
   "source": [
    "# 使用最大余弦相似度来检索相关示例，以使示例尽量符合输入\n",
    "from langchain.prompts.example_selector import SemanticSimilarityExampleSelector\n",
    "from langchain.vectorstores import Chroma\n",
    "from langchain_community.embeddings import DashScopeEmbeddings\n",
    "from langchain.prompts import FewShotPromptTemplate, PromptTemplate\n",
    "import os\n",
    "\n",
    "DASHSCOPE_API_KEY = os.getenv(\"DASHSCOPE_API_KEY\")\n",
    "\n",
    "example_prompt = PromptTemplate(\n",
    "  input_variables=[\"input\", \"output\"],\n",
    "  template=\"原词: {input}\\n反义词: {output}\"\n",
    ")\n",
    "\n",
    "# 假设已经有这么多的提示词示例组：\n",
    "examples = [\n",
    "  {\"input\":\"happy\",\"output\":\"sad\"},\n",
    "  {\"input\":\"sad\",\"output\":\"happy\"},\n",
    "  {\"input\":\"angry\",\"output\":\"calm\"},\n",
    "  {\"input\":\"calm\",\"output\":\"angry\"},\n",
    "  {\"input\":\"excited\",\"output\":\"bored\"},\n",
    "  {\"input\":\"bored\",\"output\":\"excited\"},\n",
    "  {\"input\":\"高兴\",\"output\":\"悲伤\"},\n",
    "  {\"input\":\"开心\",\"output\":\"难过\"},\n",
    "]\n",
    "\n",
    "# 引入自己的嵌入模型\n",
    "dash_embedding = DashScopeEmbeddings(\n",
    "    model=\"text-embedding-v3\",dashscope_api_key=DASHSCOPE_API_KEY\n",
    ")\n",
    "\n",
    "# 调用MMR示例选择器\n",
    "example_selector = SemanticSimilarityExampleSelector.from_examples(\n",
    "  examples,                 # 传入提示词示例组\n",
    "  dash_embedding,           # 设置嵌入模型\n",
    "  Chroma,                  # 设置向量数据库\n",
    "  k=1,                              # 设置返回的示例数量\n",
    ")\n",
    "\n",
    "# 使用小样本提示词模板来实现动态示例的使用\n",
    "similar_prompt = FewShotPromptTemplate(\n",
    "  example_selector=example_selector,\n",
    "  example_prompt=example_prompt,\n",
    "  prefix=\"请给出一个单词的反义词\",\n",
    "  suffix=\"原词: {adjective}\\n反义词:\",\n",
    "  input_variables=[\"adjective\"]\n",
    ")"
   ]
  },
  {
   "cell_type": "code",
   "execution_count": 41,
   "id": "6405e6be",
   "metadata": {},
   "outputs": [
    {
     "name": "stdout",
     "output_type": "stream",
     "text": [
      "请给出一个单词的反义词\n",
      "\n",
      "原词: 开心\n",
      "反义词: 难过\n",
      "\n",
      "原词: 伤心\n",
      "反义词:\n"
     ]
    }
   ],
   "source": [
    "print(similar_prompt.format(adjective=\"伤心\"))"
   ]
  }
 ],
 "metadata": {
  "kernelspec": {
   "display_name": ".venv",
   "language": "python",
   "name": "python3"
  },
  "language_info": {
   "codemirror_mode": {
    "name": "ipython",
    "version": 3
   },
   "file_extension": ".py",
   "mimetype": "text/x-python",
   "name": "python",
   "nbconvert_exporter": "python",
   "pygments_lexer": "ipython3",
   "version": "3.13.2"
  }
 },
 "nbformat": 4,
 "nbformat_minor": 5
}
